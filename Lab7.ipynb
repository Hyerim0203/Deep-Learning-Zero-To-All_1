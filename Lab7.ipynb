{
 "cells": [
  {
   "cell_type": "markdown",
   "metadata": {},
   "source": [
    "## Training and Test datasets"
   ]
  },
  {
   "cell_type": "code",
   "execution_count": 2,
   "metadata": {},
   "outputs": [],
   "source": [
    "import numpy as np\n",
    "import pandas as pd\n",
    "import tensorflow as tf"
   ]
  },
  {
   "cell_type": "code",
   "execution_count": 6,
   "metadata": {},
   "outputs": [],
   "source": [
    "x_train = [[1,2,1],[1,3,2],[1,3,4],[1,5,5],[1,7,5],[1,2,5],\n",
    "         [1,6,6],[1,7,7]]\n",
    "y_train = [[0,0,1],[0,0,1],[0,0,1],[0,1,0],[0,1,0],[0,1,0],\n",
    "         [1,0,0],[1,0,0]]\n",
    "\n",
    "x_test = [[2,1,1],[3,1,2],[3,3,4]]\n",
    "y_test = [[0,0,1],[0,0,1],[0,0,1]]"
   ]
  },
  {
   "cell_type": "code",
   "execution_count": 11,
   "metadata": {},
   "outputs": [
    {
     "name": "stdout",
     "output_type": "stream",
     "text": [
      "[2 2 2] 100.00%\n"
     ]
    }
   ],
   "source": [
    "x = tf.placeholder(tf.float32,[None,3])\n",
    "y = tf.placeholder(\"float\", [None,3])\n",
    "w = tf.Variable(tf.random_normal([3,3]))\n",
    "b = tf.Variable(tf.random_normal([1]))\n",
    "\n",
    "hypothesis = tf.nn.softmax(tf.matmul(x,w) + b)\n",
    "#cost = tf.nn.sotfmax_cross_entropy_with_logits(logits = tf.matmul(x,w)+b, labels = y)\n",
    "cost = tf.reduce_mean(-tf.reduce_sum(tf.log(hypothesis)*y, axis=1))\n",
    "train = tf.train.GradientDescentOptimizer(learning_rate=0.1).minimize(cost)\n",
    "\n",
    "prediction = tf.argmax(hypothesis, 1)\n",
    "is_correct = tf.equal(prediction, tf.argmax(y, 1))\n",
    "accuracy = tf.reduce_mean(tf.cast(is_correct, dtype=tf.float32))\n",
    "\n",
    "with tf.Session() as sess:\n",
    "    sess.run(tf.global_variables_initializer())\n",
    "    for step in range(201):\n",
    "        cost_val, w_val, _ = sess.run([cost, w, train], feed_dict={x:x_train,y:y_train})\n",
    "        #print(step, cost_val, w_val)\n",
    "        \n",
    "    p,a = sess.run([prediction, accuracy],feed_dict={x:x_test, y:y_test})\n",
    "    print(p, \"{:.2%}\".format(a))\n"
   ]
  },
  {
   "cell_type": "markdown",
   "metadata": {},
   "source": [
    "## Learning rate"
   ]
  },
  {
   "cell_type": "markdown",
   "metadata": {},
   "source": [
    "Learning rate 이 너무 크면 cost 가 발삼됨 inf  \n",
    "\n",
    "Learning rate이 너무 작으면 cost가 굉장히 작게 변하고 거의 이동되지 않고 최적값을 정해버림"
   ]
  },
  {
   "cell_type": "markdown",
   "metadata": {},
   "source": [
    "## Non-normalized inputs"
   ]
  },
  {
   "cell_type": "markdown",
   "metadata": {},
   "source": [
    "다른 x 와는 달리 엄청 큰값이 주어짐 => 값끼리 차이가 많이남  \n",
    "이러면 타원형으로 cost function 이 생기게 되고 gradient descent 로\n",
    "모델을 학습시킬 때 빠져나가는 일이 일어날 수 있음"
   ]
  },
  {
   "cell_type": "code",
   "execution_count": 14,
   "metadata": {},
   "outputs": [],
   "source": [
    "xy = np.array([[828.659973, 833.450012, 908100, 828.349976, 831.659973],\n",
    "               [823.02002, 828.070007, 1828100, 821.655029, 828.070007],\n",
    "               [819.929993, 824.400024, 1438100, 818.97998, 824.159973],\n",
    "               [816, 820.958984, 1008100, 815.48999, 819.23999],\n",
    "               [819.359985, 823, 1188100, 818.469971, 818.97998],\n",
    "               [819, 823, 1198100, 816, 820.450012],\n",
    "               [811.700012, 815.25, 1098100, 809.780029, 813.669983],\n",
    "               [809.51001, 816.659973, 1398100, 804.539978, 809.559998]])"
   ]
  },
  {
   "cell_type": "code",
   "execution_count": 15,
   "metadata": {},
   "outputs": [],
   "source": [
    " from sklearn.preprocessing import MinMaxScaler\n",
    "xy = MinMaxScaler().fit_transform(xy) # => min 으로 0, max 로 1을 준 다음에 normalization 함\n",
    "# 일정 구간안에 값들이 들어오게 함!!!\n",
    "# 표준화 방법으로도 normalization 을 해줄 수 있음"
   ]
  },
  {
   "cell_type": "markdown",
   "metadata": {},
   "source": [
    "## MNIST Dataset  \n",
    "*손으로 쓴 숫자 식별*"
   ]
  },
  {
   "cell_type": "code",
   "execution_count": 17,
   "metadata": {},
   "outputs": [
    {
     "name": "stdout",
     "output_type": "stream",
     "text": [
      "WARNING:tensorflow:From <ipython-input-17-c3f96be41f38>:10: read_data_sets (from tensorflow.contrib.learn.python.learn.datasets.mnist) is deprecated and will be removed in a future version.\n",
      "Instructions for updating:\n",
      "Please use alternatives such as official/mnist/dataset.py from tensorflow/models.\n",
      "WARNING:tensorflow:From C:\\ProgramData\\Anaconda3\\lib\\site-packages\\tensorflow_core\\contrib\\learn\\python\\learn\\datasets\\mnist.py:260: maybe_download (from tensorflow.contrib.learn.python.learn.datasets.base) is deprecated and will be removed in a future version.\n",
      "Instructions for updating:\n",
      "Please write your own downloading logic.\n",
      "WARNING:tensorflow:From C:\\ProgramData\\Anaconda3\\lib\\site-packages\\tensorflow_core\\contrib\\learn\\python\\learn\\datasets\\base.py:252: _internal_retry.<locals>.wrap.<locals>.wrapped_fn (from tensorflow.contrib.learn.python.learn.datasets.base) is deprecated and will be removed in a future version.\n",
      "Instructions for updating:\n",
      "Please use urllib or similar directly.\n",
      "Successfully downloaded train-images-idx3-ubyte.gz 9912422 bytes.\n",
      "WARNING:tensorflow:From C:\\ProgramData\\Anaconda3\\lib\\site-packages\\tensorflow_core\\contrib\\learn\\python\\learn\\datasets\\mnist.py:262: extract_images (from tensorflow.contrib.learn.python.learn.datasets.mnist) is deprecated and will be removed in a future version.\n",
      "Instructions for updating:\n",
      "Please use tf.data to implement this functionality.\n",
      "Extracting MNIST_data/train-images-idx3-ubyte.gz\n",
      "Successfully downloaded train-labels-idx1-ubyte.gz 28881 bytes.\n",
      "WARNING:tensorflow:From C:\\ProgramData\\Anaconda3\\lib\\site-packages\\tensorflow_core\\contrib\\learn\\python\\learn\\datasets\\mnist.py:267: extract_labels (from tensorflow.contrib.learn.python.learn.datasets.mnist) is deprecated and will be removed in a future version.\n",
      "Instructions for updating:\n",
      "Please use tf.data to implement this functionality.\n",
      "Extracting MNIST_data/train-labels-idx1-ubyte.gz\n",
      "WARNING:tensorflow:From C:\\ProgramData\\Anaconda3\\lib\\site-packages\\tensorflow_core\\contrib\\learn\\python\\learn\\datasets\\mnist.py:110: dense_to_one_hot (from tensorflow.contrib.learn.python.learn.datasets.mnist) is deprecated and will be removed in a future version.\n",
      "Instructions for updating:\n",
      "Please use tf.one_hot on tensors.\n",
      "Successfully downloaded t10k-images-idx3-ubyte.gz 1648877 bytes.\n",
      "Extracting MNIST_data/t10k-images-idx3-ubyte.gz\n",
      "Successfully downloaded t10k-labels-idx1-ubyte.gz 4542 bytes.\n",
      "Extracting MNIST_data/t10k-labels-idx1-ubyte.gz\n",
      "WARNING:tensorflow:From C:\\ProgramData\\Anaconda3\\lib\\site-packages\\tensorflow_core\\contrib\\learn\\python\\learn\\datasets\\mnist.py:290: DataSet.__init__ (from tensorflow.contrib.learn.python.learn.datasets.mnist) is deprecated and will be removed in a future version.\n",
      "Instructions for updating:\n",
      "Please use alternatives such as official/mnist/dataset.py from tensorflow/models.\n"
     ]
    }
   ],
   "source": [
    "import tensorflow as tf\n",
    "import matplotlib.pyplot as plt\n",
    "from sklearn.preprocessing import MinMaxScaler\n",
    "import random\n",
    "\n",
    "tf.set_random_seed(333) # for reproducibility\n",
    "\n",
    "from tensorflow.examples.tutorials.mnist import input_data\n",
    "\n",
    "mnist = input_data.read_data_sets(\"MNIST_data/\", one_hot=True) # one_hot 으로 y 데이터를 읽어옴\n"
   ]
  },
  {
   "cell_type": "markdown",
   "metadata": {},
   "source": [
    "### ***epoch***  \n",
    "전체 dataset을 한번 학습시킬 때 = > one epoch  \n",
    "batch size를 통해 전체 data 를 잘라서 학습시킴  \n",
    "예를 들어 1000 training example 이 있고 batch size 가 500 이라면 2번 돌면 one epoch."
   ]
  },
  {
   "cell_type": "code",
   "execution_count": 32,
   "metadata": {},
   "outputs": [
    {
     "name": "stdout",
     "output_type": "stream",
     "text": [
      "Epoch 0001 cost = 2.845255543\n",
      "Epoch 0002 cost = 1.119319137\n",
      "Epoch 0003 cost = 0.884335512\n",
      "Epoch 0004 cost = 0.771010203\n",
      "Epoch 0005 cost = 0.701162218\n",
      "Epoch 0006 cost = 0.651048603\n",
      "Epoch 0007 cost = 0.614002124\n",
      "Epoch 0008 cost = 0.583613280\n",
      "Epoch 0009 cost = 0.559135165\n",
      "Epoch 0010 cost = 0.538398592\n",
      "Epoch 0011 cost = 0.520940974\n",
      "Epoch 0012 cost = 0.505360909\n",
      "Epoch 0013 cost = 0.491934358\n",
      "Epoch 0014 cost = 0.479686752\n",
      "Epoch 0015 cost = 0.469307706\n",
      "Accuracy :  0.8886\n",
      "Label: [2]\n",
      "Prediction: [2]\n"
     ]
    },
    {
     "data": {
      "image/png": "[encoded data removed]",
      "text/plain": [
       "<Figure size 432x288 with 1 Axes>"
      ]
     },
     "metadata": {},
     "output_type": "display_data"
    }
   ],
   "source": [
    "import tensorflow as tf\n",
    "nb_classes = 10 # 0~9 까지 이기 떄문\n",
    "\n",
    "# MNIST data image of shape 28 * 28 = 784\n",
    "x = tf.placeholder(\"float\", [None, 784])\n",
    "y = tf.placeholder(\"float\", [None, nb_classes]) # 데이터 셋이 이미 one_hot 이 적용된 data set 이기 때문에\n",
    "\n",
    "w = tf.Variable(tf.random_normal([784, nb_classes]))\n",
    "b = tf.Variable(tf.random_normal([nb_classes])) # 각각에 맞는 다른 b를 사용\n",
    "\n",
    "logits = tf.matmul(x,w) + b\n",
    "hypothesis = tf.nn.softmax(logits)\n",
    "cost_i = tf.nn.softmax_cross_entropy_with_logits(logits=logits, labels = y)\n",
    "cost = tf.reduce_mean(cost_i)\n",
    "train = tf.train.GradientDescentOptimizer(learning_rate=0.1).minimize(cost)\n",
    "\n",
    "# test model 로 계산\n",
    "is_correct = tf.equal(tf.argmax(hypothesis, 1), tf.argmax(y, 1)) # axis 를 1로 지정해주어야 각 instance 에 대한 값을 반환해줌\n",
    "accuracy = tf.reduce_mean(tf.cast(is_correct, dtype=tf.float32))\n",
    "\n",
    "# parameters\n",
    "training_epochs = 15 # 많을 수록 정확도가 올라갈 것임.\n",
    "# 전체 데이터를 15번 돌리겠다.\n",
    "# 총 15 epoch\n",
    "\n",
    "batch_size = 100 # 한번에 training 시킬 data 수\n",
    "\n",
    "with tf.Session() as sess:\n",
    "    sess.run(tf.global_variables_initializer())\n",
    "    \n",
    "    for epoch in range(training_epochs):\n",
    "        avg_cost = 0 # 새로운 one epoch 때마다 avg_cost를 계산해줌\n",
    "        total_batch = int(mnist.train.num_examples / batch_size)\n",
    "        # 전체 dataset 개수를 batch_size 로 나눠주면 one epoch 를 완성할 수 있음\n",
    "        \n",
    "        for i in range(total_batch):\n",
    "            batch_xs, batch_ys = mnist.train.next_batch(batch_size)\n",
    "            c, _ = sess.run([cost, train], feed_dict = {x:batch_xs, y:batch_ys})\n",
    "            avg_cost += c/total_batch # batch_size에 해당하는 새로운 cost가 나올 때마다 더해줌\n",
    "            # 즉 one opoch 에 해당하는 cost 값이 나옴\n",
    "            \n",
    "        print('Epoch', \"%04d\" %(epoch+1), \"cost =\", \"{:.9f}\".format(avg_cost))\n",
    "        # %4d 는 빈칸 네개 우측 정렬을 뜻함           # 소숫점 9째자리까지\n",
    "        # $04d 는 빈칸을 0으로 채우고 4칸 우측 정렬을 뜻함\n",
    "    \n",
    "    print(\"Accuracy : \", accuracy.eval(session=sess, feed_dict={x:mnist.test.images,\n",
    "                                                              y: mnist.test.labels}))\n",
    "    # sess.run() 을 통해서 node를 돌릴수도 있고, node.eval(session=sess,feed_dict ={}) 할 수도 있음\n",
    "    # 돌릴 노드가 하나일 때에는 간편하게 node.eval() 을 통해서 돌릴 수 있음\n",
    "    # session 을 넣어도되고 안넣어도 됨\n",
    "    # Get one and predict\n",
    "    r = random.randint(0, mnist.test.num_examples-1)\n",
    "    # 0~인스턴스개수-1 까지 의 범위 중에서 하나를 선택.\n",
    "    # np.random.randint 의 경우에는 마지막 미만 이지만 보통은 이하임.\n",
    "\n",
    "    print(\"Label:\", sess.run(tf.argmax(mnist.test.labels[r:r+1],1))) # 2차원인 차원을 유지시키기 위해서\n",
    "    # r:r+1\n",
    "    # one hot으로 되어있기 때문에 argmax를 통해서 어떤 값인지 알아냄\n",
    "    print(\"Prediction:\" , sess.run(tf.argmax(hypothesis, 1), feed_dict = {x:mnist.test.images[r:r+1]}))\n",
    "\n",
    "    plt.imshow(mnist.test.images[r:r+1].reshape(28,28), cmap = \"Greys\", interpolation=\"nearest\")\n",
    "    plt.show()\n",
    "    \n",
    "    "
   ]
  },
  {
   "cell_type": "code",
   "execution_count": null,
   "metadata": {},
   "outputs": [],
   "source": []
  },
  {
   "cell_type": "markdown",
   "metadata": {},
   "source": [
    "### Sample image show and prediction"
   ]
  },
  {
   "cell_type": "code",
   "execution_count": null,
   "metadata": {},
   "outputs": [],
   "source": [
    "# Get one and predict\n",
    "r = random.randint(0, mnist.test.num_examples-1)\n",
    "# 0~인스턴스개수-1 까지 의 범위 중에서 하나를 선택.\n",
    "# np.random.randint 의 경우에는 마지막 미만 이지만 보통은 이하임.\n",
    "\n",
    "print(\"Label:\", sess.run(tf.argmax(mnist.test.labels[r:r+1],1))) # 2차원인 차원을 유지시키기 위해서\n",
    "# r:r+1\n",
    "# one hot으로 되어있기 때문에 argmax를 통해서 어떤 값인지 알아냄\n",
    "print(\"Prediction:\" , sess.run(tf.argmax(hypothesis, 1), feed_dict = {x:mnist.test.images[r:r+1]}))\n",
    "\n",
    "plt.imshow(mnist.test.images[r:r+1].reshape(28,28), cmap = \"Greys\", interpolation=\"nearest\")\n",
    "# matplot 의 imshow (image show) 라는 모듈을 사용해서 image 속성에 해당하는 image 를 출력할 수 있음\n",
    "plt.show()"
   ]
  },
  {
   "cell_type": "markdown",
   "metadata": {},
   "source": [
    "## Fashion image"
   ]
  },
  {
   "cell_type": "code",
   "execution_count": 33,
   "metadata": {},
   "outputs": [],
   "source": [
    "import pandas as pd\n",
    "import numpy as np\n",
    "import matplotlib.pyplot as plt\n",
    "import tensorflow as tf"
   ]
  },
  {
   "cell_type": "code",
   "execution_count": 56,
   "metadata": {},
   "outputs": [
    {
     "data": {
      "image/png": "[encoded data removed]",
      "text/plain": [
       "<Figure size 432x288 with 1 Axes>"
      ]
     },
     "metadata": {},
     "output_type": "display_data"
    }
   ],
   "source": [
    "x_data = np.array(x_data, dtype=np.float32)\n",
    "plt.imshow(x_data[0].reshape(28,28), cmap=\"Greys\", interpolation=\"nearest\")\n",
    "plt.show()"
   ]
  },
  {
   "cell_type": "code",
   "execution_count": null,
   "metadata": {},
   "outputs": [],
   "source": [
    "data = pd.read_csv(\"./fashion-mnist-train.csv\")\n",
    "nb_classes = len(data[\"label\"].unique())\n",
    "data = np.array(data, dtype=np.int32)\n",
    "\n",
    "train_data = data[:5000]\n",
    "test_data = data[5000:]\n",
    "\n",
    "x = tf.placeholder(\"float\",[None,784])\n",
    "y = tf.placeholder(tf.int32, [None, 1])\n",
    "w = tf.Variable(tf.random_normal([784, nb_classes]))\n",
    "b = tf.Variable(tf.random_normal([nb_classes]))\n",
    "\n",
    "y_one_hot = tf.one_hot(y, nb_classes)\n",
    "y_one_hot = tf.reshape(y,[-1,nb_classes])\n",
    "\n",
    "logits = tf.matmul(x,w) + b\n",
    "hypothesis = tf.nn.softmax(logits)\n",
    "cost_i = tf.nn.softmax_cross_entropy_with_logits(logits=logits, labels = y_one_hot)\n",
    "cost = tf.reduce_mean(cost_i)\n",
    "\n",
    "train = tf.train.GradientDescentOptimizer(learning_rate=0.01).minimize(cost)\n",
    "\n",
    "prediction = tf.argmax(hypothesis, axis=1)\n",
    "is_correct = tf.equal(prediction, tf.argmax(y_one_hot,axis=1) )\n",
    "accuacy = tf.reduce_mean(tf.cast(is_correct, dtype = tf.float32))\n",
    "batch_size = 100\n",
    "\n",
    "x_train_batch, y_train_batch = tf.train.batch([train_data[1:],test_data[:1]], batch_size = batch_size)\n",
    "\n",
    "epoch = 15\n",
    "\n",
    "sess = tf.Session()\n",
    "sess.run(tf.global_variables_initializer())\n",
    "\n",
    "for i in range(epoch):\n",
    "    avg_cost = 0\n",
    "    num = train_data.shape[0]//batch_size\n",
    "    for j in range(num):\n",
    "        x_train, y_train = sess.run([x_train_batch,y_train_batch])\n",
    "        c_val = sess.run([cost, train], feed_dict = {x:x_train, y:y_train})\n",
    "        avg_cost+=c_val/num\n",
    "    print(\"Epoch: {:5}\\tcost : {:.8f}\".format(i, c_val))\n",
    "    \n"
   ]
  },
  {
   "cell_type": "code",
   "execution_count": 50,
   "metadata": {},
   "outputs": [
    {
     "data": {
      "text/plain": [
       "28.0"
      ]
     },
     "execution_count": 50,
     "metadata": {},
     "output_type": "execute_result"
    }
   ],
   "source": [
    "784**(1/2)"
   ]
  },
  {
   "cell_type": "code",
   "execution_count": 52,
   "metadata": {},
   "outputs": [
    {
     "data": {
      "text/plain": [
       "[[2, 1, 1], [3, 1, 2], [3, 3, 4]]"
      ]
     },
     "execution_count": 52,
     "metadata": {},
     "output_type": "execute_result"
    }
   ],
   "source": [
    "x_test"
   ]
  },
  {
   "cell_type": "code",
   "execution_count": null,
   "metadata": {},
   "outputs": [],
   "source": []
  }
 ],
 "metadata": {
  "kernelspec": {
   "display_name": "Python 3",
   "language": "python",
   "name": "python3"
  },
  "language_info": {
   "codemirror_mode": {
    "name": "ipython",
    "version": 3
   },
   "file_extension": ".py",
   "mimetype": "text/x-python",
   "name": "python",
   "nbconvert_exporter": "python",
   "pygments_lexer": "ipython3",
   "version": "3.7.6"
  }
 },
 "nbformat": 4,
 "nbformat_minor": 2
}
