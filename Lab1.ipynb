{
 "cells": [
  {
   "cell_type": "code",
   "execution_count": 1,
   "metadata": {},
   "outputs": [],
   "source": [
    "import tensorflow as tf"
   ]
  },
  {
   "cell_type": "code",
   "execution_count": 2,
   "metadata": {},
   "outputs": [
    {
     "data": {
      "text/plain": [
       "'1.15.0'"
      ]
     },
     "execution_count": 2,
     "metadata": {},
     "output_type": "execute_result"
    }
   ],
   "source": [
    "tf.__version__ #버전확인"
   ]
  },
  {
   "cell_type": "markdown",
   "metadata": {},
   "source": [
    "## Hello TensorFlow!"
   ]
  },
  {
   "cell_type": "code",
   "execution_count": 3,
   "metadata": {},
   "outputs": [
    {
     "name": "stdout",
     "output_type": "stream",
     "text": [
      "b'Hello, TensorFlow!'\n"
     ]
    }
   ],
   "source": [
    "#Create a constant op\n",
    "#This op is added as a node to the default graph\n",
    "hello=tf.constant(\"Hello, TensorFlow!\") #hello 라는 노드를 만듦\n",
    "#노드 안에 hello, tensorflow 라는 아이를 생성\n",
    "\n",
    "#seart a TF session\n",
    "sess=tf.Session() #세션 생성\n",
    "\n",
    "#run the op and out result\n",
    "print(sess.run(hello))   #hello 노드 실행"
   ]
  },
  {
   "cell_type": "markdown",
   "metadata": {},
   "source": [
    "## Computational Graph"
   ]
  },
  {
   "cell_type": "code",
   "execution_count": 4,
   "metadata": {},
   "outputs": [],
   "source": [
    "node1=tf.constant(3.0,tf.float32)\n",
    "node2=tf.constant(4.0) #also tf.float32 implicitly\n",
    "node3=tf.add(node1,node2) #node3=node1+node2"
   ]
  },
  {
   "cell_type": "code",
   "execution_count": 5,
   "metadata": {},
   "outputs": [
    {
     "name": "stdout",
     "output_type": "stream",
     "text": [
      "Tensor(\"Const_1:0\", shape=(), dtype=float32) Tensor(\"Const_2:0\", shape=(), dtype=float32)\n",
      "Tensor(\"Add:0\", shape=(), dtype=float32)\n"
     ]
    }
   ],
   "source": [
    "print(node1,node2)\n",
    "print(node3)\n",
    "#3개는 모두 tensorflow의 노드라는 노드 출력값이 나오게 됨."
   ]
  },
  {
   "cell_type": "code",
   "execution_count": 10,
   "metadata": {},
   "outputs": [
    {
     "name": "stdout",
     "output_type": "stream",
     "text": [
      "sess.run(node1,node2):  [3.0, 4.0]\n",
      "sess.run(node3):  7.0\n"
     ]
    }
   ],
   "source": [
    "sess=tf.Session()\n",
    "print(\"sess.run(node1,node2): \", sess.run([node1,node2])) #여러 개를 run 시킬땐\n",
    "#[] 무조건 필요!\n",
    "print(\"sess.run(node3): \", sess.run(node3))"
   ]
  },
  {
   "cell_type": "markdown",
   "metadata": {},
   "source": [
    "## Placeholder"
   ]
  },
  {
   "cell_type": "code",
   "execution_count": 21,
   "metadata": {},
   "outputs": [
    {
     "name": "stdout",
     "output_type": "stream",
     "text": [
      "7.5\n",
      "[5. 8.]\n",
      "[7.0, 12.0]\n",
      "[array([5., 8.], dtype=float32), array([ 4., 15.], dtype=float32)]\n"
     ]
    }
   ],
   "source": [
    "a=tf.placeholder(tf.float32)\n",
    "b=tf.placeholder(tf.float32)\n",
    "mul_node=a*b\n",
    "adder_node=tf.add(a,b) #adder_node=a+b\n",
    "\n",
    "sess=tf.Session()\n",
    "print(sess.run(adder_node,feed_dict={a:3,b:4.5}))\n",
    "print(sess.run(adder_node,feed_dict={a:[1,3],b:[4,5]})) #여러 개의 값도 동시에 가능\n",
    "print(sess.run([adder_node,mul_node],feed_dict={a:3,b:4}))\n",
    "print(sess.run([adder_node,mul_node],feed_dict={a:[1,3],b:[4,5]}))\n",
    "#여러개의 입력값과 출력값 또한 가능 \n",
    "#첫번째 출력값에 대해[데이터1,데이터2], 두번째 [데이터1,데이터2]"
   ]
  },
  {
   "cell_type": "markdown",
   "metadata": {},
   "source": [
    "## Tensor Ranks"
   ]
  },
  {
   "cell_type": "markdown",
   "metadata": {},
   "source": [
    "rank|Math entity|Python example|\n",
    "-|-|-\n",
    "0|scalar(magnitude only)|s=483\n",
    "1|Vector(magnitude and direction)|v=[1.1,2,3.3]\n",
    "2|Matrix(table of numbers)|m=[[1,2,3],[4,5,6]]\n",
    "3|3-Tensor(cube of numbers)|t=[[[2],[4],[5]].[[6].[7],[8]]]\n",
    "n|n-Tensor(you get the idea)|..."
   ]
  },
  {
   "cell_type": "markdown",
   "metadata": {},
   "source": [
    "## Tensor Shapes"
   ]
  },
  {
   "cell_type": "markdown",
   "metadata": {},
   "source": [
    "t=[[1,2,3],[4,5,6]] => (2,3)\n",
    "\n",
    "제일 안에 요소 부터 하나하나\n",
    "\n",
    "t=[[[1],[2],[3]],[[4],[5],[6]]] => (2,3,1)\n"
   ]
  },
  {
   "cell_type": "markdown",
   "metadata": {},
   "source": [
    "## tensor types"
   ]
  },
  {
   "cell_type": "markdown",
   "metadata": {},
   "source": [
    "tf.float32\n",
    "tf.int32"
   ]
  },
  {
   "cell_type": "code",
   "execution_count": 15,
   "metadata": {},
   "outputs": [
    {
     "name": "stdout",
     "output_type": "stream",
     "text": [
      "[7.5, 13.5, array(3., dtype=float32)]\n",
      "[5. 8.]\n"
     ]
    }
   ],
   "source": []
  },
  {
   "cell_type": "code",
   "execution_count": null,
   "metadata": {},
   "outputs": [],
   "source": []
  }
 ],
 "metadata": {
  "kernelspec": {
   "display_name": "Python 3",
   "language": "python",
   "name": "python3"
  },
  "language_info": {
   "codemirror_mode": {
    "name": "ipython",
    "version": 3
   },
   "file_extension": ".py",
   "mimetype": "text/x-python",
   "name": "python",
   "nbconvert_exporter": "python",
   "pygments_lexer": "ipython3",
   "version": "3.6.5"
  }
 },
 "nbformat": 4,
 "nbformat_minor": 2
}
