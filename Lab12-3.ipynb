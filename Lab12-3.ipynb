{
 "cells": [
  {
   "cell_type": "markdown",
   "metadata": {},
   "source": [
    "## Better data create"
   ]
  },
  {
   "cell_type": "code",
   "execution_count": 48,
   "metadata": {},
   "outputs": [],
   "source": [
    "import tensorflow as tf\n",
    "import numpy as np"
   ]
  },
  {
   "cell_type": "code",
   "execution_count": 29,
   "metadata": {},
   "outputs": [],
   "source": [
    "with tf.variable_scope(\"ifyouwantyou11\"):\n",
    "    sample = \"if you want you\" # set을 통해서 중복값을 제거한 후에 리스트로 만듦\n",
    "    list_char = list(set(sample))\n",
    "    dic_char = {c:i for i, c in enumerate(list_char)}\n",
    "\n",
    "    sample_idx = [dic_char[i] for i in sample]\n",
    "    x_data = [sample_idx[:-1]] # 끝에 하나 덜들어가고\n",
    "    y_data = [sample_idx[1:]] # 처음 하나 덜들어감\n",
    "                             # batch 때문에 겉에 [] 더 씌움\n",
    "\n",
    "    #parameters\n",
    "    hidden_size = len(list_char)\n",
    "    sequence_length = len(sample_idx) -1\n",
    "    learning_rate=0.1\n",
    "    dic_size = len(dic_char)\n",
    "    batch_size = 1\n",
    "    num_classes = len(dic_char)\n",
    "\n",
    "    X = tf.placeholder(tf.int32, [None, sequence_length])\n",
    "    Y = tf.placeholder(tf.int32, [None, sequence_length])\n",
    "\n",
    "    X_one_hot = tf.one_hot(X, num_classes) # 알아서 차원이 하나 늘어나기 때문에\n",
    "    # reshpae 해줄 필요가 없음.\n",
    "    \n",
    "    cell = tf.contrib.rnn.BasicLSTMCell(hidden_size, state_is_tuple=True)\n",
    "    initial_state = cell.zero_state(batch_size, tf.float32)\n",
    "    outputs, states = tf.nn.dynamic_rnn(cell, X_one_hot, initial_state=\n",
    "                                       initial_state, dtype=tf.float32)\n",
    "    \n",
    "    weights = tf.ones([batch_size, sequence_length])\n",
    "    sequence_loss = tf.contrib.seq2seq.sequence_loss(logits=outputs,\n",
    "                                targets = Y, weights = weights)\n",
    "    loss = tf.reduce_mean(sequence_loss)\n",
    "    \n",
    "    train = tf.train.AdamOptimizer(learning_rate=learning_rate). minimize(loss)\n",
    "            # tan 함수 사용 => 각 cost 함수가 convex 함수이기 때문에\n",
    "            \n",
    "    prediction = tf.argmax(outputs, 2) # argmax 를 하면 차원이 줄어들게 됨\n"
   ]
  },
  {
   "cell_type": "code",
   "execution_count": 30,
   "metadata": {},
   "outputs": [
    {
     "name": "stdout",
     "output_type": "stream",
     "text": [
      "step : 0000, prediction : yynuannuuuuuuu\n",
      "step : 0300, prediction : f you wnnt you\n",
      "step : 0600, prediction : f you wnnt you\n",
      "step : 0900, prediction : f you wnnt you\n",
      "step : 1200, prediction : f you wnnt you\n",
      "step : 1500, prediction : f you wnnt you\n",
      "step : 1800, prediction : f you wnnt you\n",
      "step : 2100, prediction : f you wnnt you\n",
      "step : 2400, prediction : f you wnnt you\n",
      "step : 2700, prediction : f you wnnt you\n"
     ]
    }
   ],
   "source": [
    "with tf.Session() as sess:\n",
    "    sess.run(tf.global_variables_initializer())\n",
    "    for step in range(3000):\n",
    "        p, l, _ = sess.run([prediction, loss, train], feed_dict={X:x_data,Y:y_data})\n",
    "        \n",
    "        if step%300==0:\n",
    "            p_str = [list_char[i] for i in np.squeeze(p)]\n",
    "            # 차원이 1인 rank 를 없애줌\n",
    "            p_str=\"\".join(p_str)\n",
    "            print(f\"step : {step:04}, prediction : {p_str}\")"
   ]
  },
  {
   "cell_type": "markdown",
   "metadata": {},
   "source": [
    "## long sentece"
   ]
  },
  {
   "cell_type": "code",
   "execution_count": 35,
   "metadata": {},
   "outputs": [],
   "source": [
    "sentence = (\"if you want to build a ship, don't drum up people together to \"\n",
    "           \"collect wood and don't assign them tasks and work, but rather \"\n",
    "           \"teach them to long for endless immensity of the sea.\")\n",
    "# 한칸 씩 움직이면서 x_data 로 설정해서 정확도를 높임"
   ]
  },
  {
   "cell_type": "code",
   "execution_count": 60,
   "metadata": {},
   "outputs": [
    {
     "name": "stdout",
     "output_type": "stream",
     "text": [
      "step: 0, \n",
      "cost : 3.210700, \n",
      "prediction : tto othohhoo othohhha cthhhhhh cttthhhooctathhhoooaaohhhhhooaohhhohooonhhhooooohhhhhhoohhhd ooooohhh ahoohhhhhaooohhhhhh toohhhhhhcorttthhhharahhhhhhhraht ahhhhatt ahhhhhtt a hhhhht a hhhhhh ahhhhhhhhahhhhhhhhhha hhh hhoa hth hooh ttt t oh ttt o oh ot  o od ooo oooo ooo a ot oooha ot ooohh ttt oohhhctttoohhhhd  oohhhhhr aohhhhhh aohhhhhhha hhhahhho  ataahoootttaahooooataaoooooonaaoooooooaaooooooooataoooooooooooooooooaooooooooooocoetooooccottoooooctetoooooooetooooohhttaoooohhhcaoooohhhhaoooohhhhh ttthhhhhhctctthhhhhechhhhhhhochhhhhhhoh hhhhhhohhttthhhohhoctahhohhottahoohhtttaooohootth tohtttthhcoettttthhahttttthhohtttttttoocttttttooottttthoooottthhooooochhhooooohhhhooooohh aoooooohoaootoo hoonttto hooocttt h oooc a h oood ahh ooohdahh oooh ohh oooh ood oooo ooo a oh oohha ot oohhh ttt ohhhhctttohhhhhd  ohhhhhhr ahhhhhhh ahh hhhhhah  hhhhhhh  tnhhhhh  tththhhh tththhhhotthohhhhohetoohhoohhdoohhoohhhaohhhohhhh hhtohhhhhtttoohhhhhctaohhhhhhnaohh  hhhaohh  hhhh h   hhhhhh     hhho   a h hoo  a h hooh a h hooh ahh oooh  hh oooh  od oooo  oh aoot  ohhaoot  o hhntt  t ahhct    ahhht    ahhhh  a ahahhh arahhhhhharahhhhhhhrahahhhhhhaaahhhhhhh ahhhhhhhhahhhhhhhhhthhhhhhhhhhhhhhhhhhh hhhhhhhhhttthhhhhhhctahhhhhhhtahhhhhhhhaoohhhhhhh ahhhhhhhhchhhhhhhhhhhhhhhhhhhhhhhhhhhhhtrhhhhhhhoaohhhohhoo hhtohooootttoooooohctaooooohonaooooohooaooooohtoo tottttooocotttttootaetttooototttttootoocttoootoohdtoootoohoeoootoohooaootoohooootttchooohcttcho ohhtaaho hhhhaahooohhhhcto otthhhd  ttttthh tttttththttttttttthctttttthhh   ttnnhht attnthtthahttthtthhttntttthhhnntttthhhhntttthhhhocttthhhhood t  hhooo t  hhooohth hhooohh  hoooohho  cooohhohaoooohhohhctoohhohhh\n",
      "step: 300, \n",
      "cost : 1.915109, \n",
      "prediction : t y u aant tou aant tou aant t u aant t n aant t  mwant t  ttont t  tuont t  tuint t  tuild t  ouild aorluild to luild a  luild a nluild a ttutld a t utld a t impd a t iptd a t ip,e a d ip,  a s ip, dtns ip, d nthip, d nt ip  d n' ip  d n'tet  d n't t  d n't d  don't d  don't d aton't dram n't dram ndt dram tdt dram tptaaram tpp ao m tpppto m tp p   m tppp p m tppp ppm pp p pp  tp p op etp p op e m pppp e t ppop e t toop e t   op e t   rrle t   tn e t   t  e to  t  e t   t  rrto  t  r to  t  r t   t  r t n t  r t  et  r t  lr  r t  lo    t  lolem t  lollr t  lolle ta lollecto lollect  lollect nlollect wtollect wotllect woonlect woodeect wood e t wood art tood ant tood and aood and tond and dord and d nl and d nn and d n' a d d n'ttnd d n't nt d n't dd d n't as a n't ds ton't ds   n't ds  gndt ds  g dt ds  g  taas  g  t a   g  t tn  gn t  n  g  t     g  t     t  t    tt  t    t ett    t  dt    t   to   t   s    t   s em t   s ir t   s in to  ssindto  ssind    s ind dn s ind do s ind dors ind dork ind dork,tnd dork, nt dork, dd dork, du aank, duttonk, dut ork, dut rn , dut ra , dut rats dut rat  dut rat  tut rat  rut rat  r m rat  r t aat  r t tat  r t a t  r t atnh r t att    t att em t att tr t att t  taatt t  toatt t    att t    rtt t    tnt t    t t t    t  et  r t  lto   t  lo    t  lonem t  lon r t  lon   to lon  tto lon  t   lon  t rnlo   t r to   t r ee   t r tnnd t r ensd t r ens et r ens etor ens es r end es n end es   tas es  itos es  imrs e   im d es  im   ds  im  ne   im  nsr  im  ns   im  ns t im  ns t tp  ns t  t  ns t  o  ns t  o  ns t  o  rs t  o  td t  o  t  t  o  t  t  oo t     to t   t oo t   t to t   s an t   s as\n",
      "step: 600, \n",
      "cost : 1.886809, \n",
      "prediction : l y u aant you aant tou aant t u aant t nlaant t  mwant t  ttont t  tuond t  tuint t  tuilt t  tuild to tuild to luild a  luild a nluild a ttutld a t uild a t imld a t ipld a t ip,e a t ip,  a s ip, dtnssip, d nthip, d nt ip  don' ip  d n'tet  d n't l  don't d  don't dr don't druton't drum n't drum ndt drum ttt drum tptaarum tp  toum tp pto m tp p   m tp p p m tp p ppm up p pp  tm p op et  p op e m p pp e t p op e totoop e to  op e to  nrle to  tn e t   t  e to  t  e to  t  rnto  t  r to  t  r t   t  r t n t  r t  et  r t  cn  r t  co    t  coler t  colln t  colle t  collecto lollect  lollect nlollect wtollect woollect woonlect woodeect wood e t woodoant wood ano tood and tood and tond and dord and d nl and d nn and d n' a d d n'ttnd d n't nt d n't dt d n't ds aon't ds ton't ds i n't ds igndt ds ig tt ds ig  taas ig  t ts ig  t tn ig  t  nh g  t     g  t     t  t    tl  t    t ett    t  tt    t   to   t   s    t   s er t   s in t   s in to  ssindto  s ind    s ind dnhssind do s ind dors ind dork ind dork,tnd dork, nt dork, dt dork, du aark, duttonk, dut ork, dut rn , dut ra , dut rats dut rat  dut rat  tut rat  rui rat  r m rat  r t tat  r t tat  r t a t  r t atnh r t att    t att er t att tn t att t  t att t  toatt t    att t    ntt t    tnh t    t o t    t  em  r t  lto   t  lo    t  loner t  lon n t  lon   to lon  tto lon  t   lon  t rnlon  t r to   t r ee   t r ennd t r enst t r end et r end etor end e  r end e  n end e    tnd e   itad e   imnt e   im t e   im   ds  im  ne   im  nsn  im  ns   im  ns t im  ns t tp  ns t  l  ns t  o  ns t  o  ns t  oo nt t  o  tt t  oo t  t  oo t  l  oo t     to t   t oo t   s to t   s an t   s as\n",
      "step: 900, \n",
      "cost : 1.879429, \n",
      "prediction : l y u aantotou aant tou aant t u aant t nlaant t   want t  otont t  ouond t  ouint t  ouilt t  tuild to auild to luild a  luild a nluild a ttutld a t utld a t i ld a t ipl  a t ip,e a s ip,  a s ip, dtnssip, d nthip, d nt ip  d n' ip  d n'tet  d n't l  don't d  don't dr don't druton't drum n't drum ndt drum ttt drum tptaarum tp  toum tp pto m tp p   m tp p p m tp p op  tp p pp  tp p op et  p op e   p pp e t pepp e totoop e to  op e to  mnle to  tn e to  t  e to  t  e to  t  rmto  t  r to  t  r t   t  r t n t  r t  et  r t  cmh r t  co em t  colem t  collm t  colle te collecto lollect  lollect nlollect wtollect woollect woonlect woodeect wood e t wood amt wood ano tood and tood and tood and dord and d nl and d nn and d n' a d d n'ttnd d n't nt d n't at d n't a  aon't as ton't ds i n't ds igndt ds ig tt ds ig  taas ig  t ts ig  t tn ig  t  nhig  t     g  t     t  t    tln t    t ett e  t  tthem t   toem t   s em t   ssem t   s im t   s in to  ssindto sssind  t ssind dnhs ind do ssind dors ind dork ind dork,tnd dork, nt dork, dt dork, du aork, duttook, dut ork, dut rn , dut ra , dut rats dut rat  dut rat  tut rat  rut rat  r   rat  r t tat  r t tat  r t a t  r t atnh r t att em t att em t att tm t att t  teatt t  toatt t    att t    mtt t    tnh them t o them t  emhem t  ltoem t  lo em t  lonem t  lon m t  lon   to lon  tto lon  t   lon  t rnlon  t r ton  t r ee   t r ennd t r endt tor end etor ens etor ens esor end es n ens es   tad es  itas es  immt es  im t es  im   ds  im  ne   im  nsm  im  ns   im  ns t im  ns t tp  ns t  lm ns t  o ens t  o  ns t  o  mt t  o  tt t  o  t  t  o  t  l  oo t     to t   t oo t   s to t   s an t   s a \n",
      "step: 1200, \n",
      "cost : 1.869010, \n",
      "prediction : l you aantotou aant tou aant t u aant tonlaant to  want to otont to ouond to oui t to ouil' to ouild to auild to cuild a  luild a nluild a ttutld a thuild a thi pd a ssipl  a thip,e a hsip,  a ssip, dtnssip, do thip, donthip  don'iip  don'tet  don't l  don't d, don't dr don't druton't drum n't drum ndt drum t't drum tptaarum tp  toum tp pto m tp pe  m tp pepkm tp pepp  up pepp  tm peop etp peop e   pepp e t,peop e totoop e to ,op e to  nnle to  tn e to  th,e to  thee to  thernto ether to  ther t   ther ten ther to ether to cnoer te co em to colem to colln te collekte collecto collect  lollect nlollect wtollect woollect woonlect woodeect woodoe t woodoant tood anohtood and tood and tood and dord and dond and donn and don' a d d n'ttnd d n't  t d n't a' don't a  aon't a  ton't dssi n't dssigndt dssign't dssign taassign t tssign thtnsign the hign themi gn them ig  them tl  them taetthem tas'them tasstoem tosss em tossssem tossssin tossssin tossssindtossssind  tsssind d hssind doissind dorssind dorkiind dork,tnd dork,  t dork, d' dork, du aork, duttook, dut ork, dut rn , dut rak, dut rats dut rath dut rathetut ratherui rather   rather t tather tetather teakther teat her teatt em toatt em toatt tn teatt thkteatt thetoatt them att them ntt them t h them too them to emhem to ltoem to lo em to lonem to lon n to lon   to lon  tto con  to  lon  tornlon  tor ton  tor ee t tor ennd tor end' tor end etor end etor end e or end e  n end e   ktnd e   itad e   imnt es  im ' es  im   ds  im  ne   im  nsn  im  ns i im  ns tiim  ns t tp  ns t  l  ns t  o ens t  o  ns t  o  nt t  o  t' t  o  thig  o  thel  on the   on the t on the teto the sean the tea \n"
     ]
    },
    {
     "name": "stdout",
     "output_type": "stream",
     "text": [
      "step: 1500, \n",
      "cost : 1.865535, \n",
      "prediction : g you aantotou aant tou aant t u aant tonlaant to  want to otont to ouont to ouint to ouilt to ouild to auild to luild a  luild a nluild a ttutld a thuild a thi ld a ssipg  a thip,e a ssip, od ssip, dtnssip, donthip, donthip  don'iip  don'tet  don't g  don't d, don't dr don't druton't drumon't drum ndt drum ttt drum tptaarum tp  toum tp ptoum tp peo m tp pepum tp pepp  up pepp  tm peop etp peop e   pepp e t,peop e totoop e to ,op e to enrle to etn e to eth,e to ethee to ethernto ether to  ther t   ther ton ther to ether te cnoer to co em te colem te colln te colleute collecto lollect  lollect nlollect wtollect woollect woonlect woodeect woodoe t wood ant wood anohtood and tood and tood and dord and dond and donn and don'od d d n'ttnd d n't nt don't at don't a odon't asston't dssion't dssigndt dssigntt dssign taassign t tssign thtnsign thenhign themiign them ign them tgn them taetthem tastthem tasstoem tosss em tossssem tossssin tossssin tossssindtossssind  tsssind dnhssind doissind dorssind dorkiind dork,tnd dork, nt dork, dt dork, duodork, duttook, dut ork, dut rn , dut rau, dut rats dut rath dut rathetut ratherui rather   rather t tather tetather teauther teatnher teatt em teatt em teatt tn teatt thuteatt thetoatt them att them ntt them tnh them too them to ethem to ltoem to lo em to lonem to lon n to lon   to lon  tto lon  to  lon  tornlon  tor ton  tor ee   tor ennd tor endt tor end etor end etor end e or end e  n tns e   utnd e   itas e   imnt d   immt d   imm ods  immene   immensn  immens iiimmens tiimmens t tpm ns t  gm ns t  o ens t  o  ns t  o  nt t  o  tt t  o  thig  o  theg  oo the   on the t on the seto the sean the tei \n",
      "step: 1800, \n",
      "cost : 2.052743, \n",
      "prediction : l tou ta totou ta t dou ta t t u ta t to  la t to mwapt to cda t to cuo t to cuitt do cuil' to cuild ao ouild do luild a  luild d  luild d hduild d hhutld d hhimlw a hhitld d hhit,o a ssit,  asssit, ddcthim  dottsim  doddiim, doddiit  doddtet, dopdt l  doddt dl doddt d  doddt d udoddt doum  dt d um  dt d um t't d um t taaoum t   aoum t  tdoum t  t,  m t  teout tm t,o m tm p,op  tm peop edm teoo e m peoo e tlpeol e todeolle to lol e to  mlle to  t le to  thle tol t eo to  the mto ethe  do ethew t  ethem to etoe  to ethem to cm em to co em to colem to collm te colleute colle do lolle t  lolle t  lulle t tdo le t too le t wao le t toodoe t tood o t tood dmt lood dsohloow asd aood dsd daod dsd dood dsd do d d d dod  a d dodd asd doddtdct doddt tt doddt d' d ddt ds aoddt dssdoddt dssi  dt dssig dt dssig 't dssig  taassig  t acsig tthdcsig  thethit tthe iig tthe  ig  the  tl  the  taetthem tas'them tossdoem tosss em tossssem tossssim tossssi  tossssipddossssi d  tsssi d dths i d dois i d dorssa d dorkiidd dork,dct dork, tt dork, d' dork, du aork, dutdaok, dut ook, dut a  , dut aau, dut aats dut aath dut aathedui aatherut aathe  m aathep t aathe  tedathe  teauthes teatther teach em toath em tocth tm teach thuteach thedoach them ath them mch them tth toem too them tooetoem toocdoem tooco em tooco em toolo  m to co    to lo p tdo lo   to  lo   to  lo d to  do w tow eo   to  to d to  tss' to  ess eto  eas edor eas esor eas es   tss es  utas es  idas es  immt es  imm' es  imm  d   imm  o   imm  sm  imm  s iiimm  s tiidm ss t dm  st t  l  ss t  o eps t  o  pt t  op mt t  o  t' t  o  thig  o  thel  o  the   oo thess o  thesssdo tee sea  themtea \n",
      "step: 2100, \n",
      "cost : 1.997519, \n",
      "prediction : l tou ta totou ta t tou ta t t u ta t to  dadt to mwapt to ptadt to puo t to cuitt to cuil' th ouild ao auild to cuild a  cuild a  luild a htuild a hsuild a hhimld a hhitld ashsit,e a hsit,  ashhit, dtcthit, dotthit  dodtiim  dod'iit  dod'tet, dod't l  dod't dl dod't dr dod't drutod't drum d't drum  dt drum t't drum t taarum t   aoum t  ltoum t  te  m t  teoum t  teo m up ppopl tm peoplet  teol e m people tlpeople toteolle to lolle to  mrle to  t le to  thle to  thee to  thermto ether to ether t  ether to ether to ether to cm er te co er te colem to collm to colleuta lollecto collect  colle t  lolle t tto lect too le t woo lect toodee t tood e t tood amt tood a ohlood a d aood a d taod a d dood a d do d a d dod  a d dod' asd dod'ttct dod't tt dod't d' dod't ds aod't dsstod't dssi d't dssig dt dssig 't dssig  taassig  t assig  thtchig  thethig tthe i g tthe  ig  the  tl  the  tae the  tas'the  tosstoem tosss er tossssem tossssam tossssa  tossssapdtossssa d  tsssa d dthssa d doissa d dor,sa d dorkii d dork,tct dork, tt dork, d' dork, du aork, duttaok, dut ook, dut r  , dut rau, dut rat, dut rath dut rathetui ratherui rather m aather t aather tetather teauther teatther teath er teach em tocth tm tocth toutaach thetoath them ath them mch them tth them too them to ethem to ltoem to lo er to lo em to lo pm to lo    to lo p tto co   to  co   tot lo d tot to   tow ee   to  ea d tot ead' to  ead eto  ead etor ead eaor ead e    tss es  utas ds  itas ds  immt ds  imm' ds  imm  ds  imm se   imm ssm  imm ss i im  ss tiimm ss t tm  st t  l  ns t  o eps t  o  ps t  o  mt t  o  t' t  o  thig  o  thel  o  thes  o  thess o  thesseto thesses  thessea \n",
      "step: 2400, \n",
      "cost : 2.038885, \n",
      "prediction : l t u ta totou ta t dou e  t t u ta t to  lo t to mwapt to tdopt to tuo t to tuint to tuil' to luild ao luild do tuild a  luild as luild astduild a thuild asthimld asshitl  asthit,o a thit, oa ssit, ddcthit, donthit, doddiit  dod'iit  dod'tet, dop't l  dod't al dop't ar dod't arudod't drumod't drum  dt drum t't drum t taarum t   aoum tm tdoum t  t,o m tm t,oum t  t,o m tm p,opl tm p,opled  teolle m p,ople tlppople todeolle to lople to  mrle to  t lesto  shle top theo to  thesmto  t er do er  r t  ether te  them te ethmm te lm er te lo em te lolem te lollm te lolleuta lolle do tolle t  lolle t  lolle t tdolle t woolle t too le t aoodoect aood o t tood amt lood asohlood asd aood ass dood a d dood ass do d ass dod  a d dod'oa s dod'tdct dod't nt dod't a' d d't asoaol't assdod't dssiod't dssig dt dssig 't dssig  taassig  t assig  thdcsig  thenhig  the iig  the  ig  the  tl  them toe the  tos'them tossdoem tosss em tossssem tessssim tossssi  tossssi ddotsssi d  thssi d dnhssi d doissi d dorssi d dorkii d dork,dct dork, nt dork, d' dork, duoaook, dutdook, dut ook, dut r  , dut rau, dut rats dut rath dut rathedui ratherui rather m rather t aather tedather teauthem teatnher teath em teath em teath tm teath thutaath thedoath ther ath them mct toem tnh toem too them to ethem to ldoem to lo em to lo em te lo  m to ao    to lo p tdo to   to  lo   tot lo d tot do   top eo   tot ts d tot tss' to  tss eto  eas ddor eas esor eas ds   tos es  utas es  idas es  immt es  imm' ds  imm olc  imm so   imm ssms imm ss iiimm ss tiidm ss t dm  st t  lm ns t  t eps t  o  ps t  oo mt t  to t' t  to thig  to thel  to thes  to thess oo thestedo the taa  the tea \n",
      "step: 2700, \n",
      "cost : 1.959411, \n",
      "prediction : m tou ta totou ta t dou papt t u ta t to  lo t to mwapt to ododt to ouoct to ouitt to ouil' to ouild ao luild do cuild a  luild a  luild a sduild a shuild a shimld asshitm  ashhit,o a hhit, oa dhit, ddcthit, dotthit, doddiit, dod'iit, dod'tet  dod't m  dod't d  dod't dr dod't drudod't drumod't drum  dt drum t't drum tmtaarum tm  aoum tm tdoum tm t,o t tm teo m tm t,oom up p,opl tm p,opled  teoole m ppople t peolle todeolle top ople to  mrle to  t le to  th e top theo to  thermto  ther do  ther t   ther to cthem to ether to cm er ta co er to colem ta collm te colle ta colle do colle t  lolle t  lolle t tdolle t toollewt woo lest toodoect tood o t tood amt tood aso wood asd aood asd dood asd dood asd do d asd dod  asd dod'oa d dod'tdct dod't tt dod't d' dod't dsoaod't dssdod't dssiod't dssig dt dssig 't dssig  taassig  t assig  thdchig  thethig  the iig  the  ig  the  tm  them taetthem tas'them tassdoem tosss er tossssem tossssam tossssa  tossssa ddossssa d  tsssa d dthssa d dois a d dor,sa d dorkiidd dork,dct dork, tt dork, d' dork, duoaork, dutdook, dut ook, dut r  , dut ra , dut rat, dut rath dut rathedui ratherui rather m rather t aather tedather tea ther teatther teath er toath em taath tm teath th taath thedoath the  ath the  mth them tth them tao them to erhem to ldoem to lo er to lo em to lo  m to lo    to lo p tdo co   to  lo   tot lo   to  do   top to t to  ts d tot tss' to  tss etot tad edor ea' e or eas e    tos es   tad es  idod es  immt es  imm' es  immeods  immeso s immessms immess iiimmess tiimmess t dm  st t  mm ns t  o ess t  o  ps t  op mt t  o  t' t  o  thig  o  them  o  the   tt the t o  the sedo the sea  toe sea \n"
     ]
    }
   ],
   "source": [
    "char_list = list(set(sentence))\n",
    "char_dic = {c:idx for idx, c in enumerate(char_list)}\n",
    "x_data = []\n",
    "y_data = []\n",
    "\n",
    "#data\n",
    "seq_length = 10\n",
    "for i in range(len(sentence)-seq_length):\n",
    "    x_str = sentence[i:seq_length+i]\n",
    "    y_str = sentence[i+1:seq_length+i+1]\n",
    "    \n",
    "    x_str = [char_dic[c] for c in x_str]\n",
    "    y_str = [char_dic[c] for c in y_str]\n",
    "    \n",
    "    x_data.append(x_str)\n",
    "    y_data.append(y_str)\n",
    "\n",
    "#parameters\n",
    "input_size = len(char_dic)\n",
    "hidden_size = len(char_dic)\n",
    "nb_classes = len(char_dic)\n",
    "batch_size = len(x_data)\n",
    "\n",
    "with tf.variable_scope(\"sentence10\"):\n",
    "    X = tf.placeholder(tf.int32, [None, seq_length])\n",
    "    Y = tf.placeholder(tf.int32, [None, seq_length])\n",
    "    x_one_hot = tf.one_hot(X, nb_classes)\n",
    "    \n",
    "    cell = tf.contrib.rnn.BasicLSTMCell(hidden_size, state_is_tuple=True)\n",
    "    initial_state = cell.zero_state(batch_size, tf.float32)\n",
    "    outputs, states = tf.nn.dynamic_rnn(cell, x_one_hot, initial_state=initial_state, dtype= tf.float32)\n",
    "    \n",
    "    weights = tf.ones([batch_size, seq_length])\n",
    "    seq_cost = tf.contrib.seq2seq.sequence_loss(logits=outputs, targets = Y, weights = weights)\n",
    "    cost = tf.reduce_mean(seq_cost) # mean 은 어떤 형태던지 모든 값의 mean 을 구함!!!\n",
    "    optimizer = tf.train.AdamOptimizer(learning_rate=0.1).minimize(cost)\n",
    "    \n",
    "    prediction = tf.argmax(outputs,2)\n",
    "    \n",
    "with tf.Session() as sess:\n",
    "    sess.run(tf.global_variables_initializer())\n",
    "    for step in range(3001):\n",
    "        c, _ = sess.run([cost, optimizer], feed_dict = {X:x_data, Y:y_data})\n",
    "        p = sess.run(prediction, feed_dict = {X:x_data})\n",
    "        if step%300==0:\n",
    "            p_str = [char_list[int(i)] for seq in p for i in seq]\n",
    "            p_str = \"\".join(p_str)\n",
    "            print(f\"step: {step}, \\ncost : {c:.6f}, \\nprediction : {p_str}\")\n",
    "    \n",
    "    \n",
    "    "
   ]
  },
  {
   "cell_type": "code",
   "execution_count": 61,
   "metadata": {},
   "outputs": [
    {
     "name": "stdout",
     "output_type": "stream",
     "text": [
      "step: 0, \n",
      "cost : 3.214066, \n",
      "prediction : oooon dondotdn dondotdn dondoo   doodooon doodooootttodooooottodoooooeoodoooooeondoooooeoodoooooeeoeoooooeeoeotoedeeoeooooottoeoonnnttoeodndtttaeooodnttaaooodneto ododnenoeodddneneeodndnnnnnodndnnnnnntndnenennnndnenendnntaeeeadnnnaiaeadnnndeoeddonndoodddnnndoddddnnndodondnnndodootnnddodoooonddodoooonddodoooooddoooooooododoooooooooooooooootnooodoodeooooooodoeoatttatdeettttdtdeeetttdtdeeeettdteeeeeetdtdeeeeeedteeeeeeeetdeeeeeeeedeeeeeeeee   eeeeeeenneeeeeoeedeeeeeoeeee eeeoeoee toeoeoeeetoeoeoeeeeoooeoeeeoonnnoeeeooeoeoeeeooeo oeeeooeoeoeeoooooeoeeotoeeeoe otoooooeeotoooooeeetoedeneeeeoooooeeeeonnoneeeeootoneeeeoooooeeeeoooonee eoooooee eooooooe eoooooon ooooooonnooooooonnnooooonnnnnttnnnnnnnnornnnnnnnnnnnnnnnnnnnnnndnnnnnodndnnnnnntndodnnnnnndodnnnnoddodonndodnodnnndodnntnnddodnnnonddoddnnnnddodoonnnddooooaooododooaaoddooonnnnddotnnnnnddoennnnnddoeeaaaaadoeeeaaoodoeeeeooodoeeeeoottoeeeeooddoeeeeoootoeeeeoooeoeeetoooeaeeetooonnn ttooonnnnttooonnnndtooonnnnnnooonnnndnnnnnnnndnnnanaandnnnnnanndnnnnnatndndnnnntndodonnnnndodononnndodooonnnnodononnnnettnonnnaaooroonnaaoononnnaaoeoooadaaaeoonnnttaeooondttoooooetttoooooeettooooooeotooooooeoooooooeeoootoooeeoooeooooeoooeonoeeoooeoooeeoooeooeeeotoeooeo otoeooeoootoeooeooetoeooeooeeoeooeooeee noeooeeeenooooeeeeooetoeeeeoeeteeeeeeeetoeeeeoeeeoeeetoeeeeeeetoeeeee ttooeeeeottoodeeeontoedeeeenooooeeeononnneedononnteeeodonone  ooooonnndotononnedotooooeeootononneoetonodeeoeeooodedoeeenod doeee oteeoee aateeoee aae  o   aaaodo   aaaooo   aaaooee  aaaaoee  aaaaoeeaaaaaatedaaataotedaaotdotedaaooooo daaoootttdsaoooet daaoooeo   ao oeoodaaoooeoooaao eeoooeooooeoooeeoooeoooeee dnonoeeeetnonoeeeeenodoeeeeen\n",
      "step: 300, \n",
      "cost : 1.909567, \n",
      "prediction : l you wantotou want tou want t   want ton want to  wa t to otont to ouant to ou nt to ou ld to lu ld ao lu ld to lu ld a  lu ld a ndu ld a stutld a shutld a shi ld a shi ll a shi  e a shi    wnssi   dtnthi   donthi l dontsi l don' i   don'tel  don't l  don't a  don't ar don't ar ton't ar    't ar   n t ar   udt ar   upt ar   up  aou  up ptou  up dp u  up ppp   up ppop  up ppppp tp ppoplet  ppople   pppppe t eeople totoople to     e to  m  e to  tn e to  to e to  thee to  thermso ether to  ther t   ther ton ther to ether to cm er to co er to colem to collm to colle ao colle to lolle t  lolle tondolle towtolle towot le towoondectowoo eectowoo  e towoo  amtoaoo  anthwoo  and aoo  and tond and dand and don  and donn dnd don' wnd don'ttnt won't nt won't ad don't as won't as ton't as    't as  nn t as  n dt as  n  t as  n  t as  n  thtns n  thens n  them in  them  t tthem tl  them taetthem ta dtoem to  toem to  s er to  s em to  s am to  s an to  s andto  s and    s and wnss and wo s and wors and wor  ind wor  tnt won   nt won   bd don   bu won   button   but an   but rn   but aa s but aats but rat  dut aathetut ratherut rather   aather t aather tetather tea ther teacnher teach er toach em toach tm toach th aoach thetoa h them a h them mst them tnt them tot them to ethem to ltoem to lo er to lonem to lon m to lon   to lon  tto lon  to  lon  to ndon  to  ton  to  ee   to  enn  to  endd tor endletor endleto  endleso  endlessn endless  aadless itodless imm  ess immd ss  imme ess immene   immensm  immenss iimmensst immensst tmmensst  lm nsst    ensst     nsst     m  t     td t  t  th t     thel     them  ou thems uu themsetn toemsean toemsea \n",
      "step: 600, \n",
      "cost : 1.883294, \n",
      "prediction : f you want tou want tou want t   want ton want to  wand to ltont to luont to lu nt to lu ld to ou ld ao ou ld to lu ld a  lu ld a ndu ld a stutld asshutld a shi ld a shilfl anshil e anshil   dnssil  dtnthil  donthi   dontsi   don'si   don'tel  don't f  don't a  don't ar bon't ar ton't ar   n't ar   n t ar   udt ar   upt ar   up  aou  up ptou  up pe u  up pep   up pepp  up peppl up peoplet  pepple   pepple t eeople totoople to  p  e to  m  e to  tn e to  to e to  toee to  toermto etoer to etoer t  etoer tonnther to nther to cm er to co er to colem to collm to colle ao colle to lolle t  lolle tondolle towtolle t wot le towoonde towoo ee towoo  e towoo  amtoaoo  anthwoo  dnd aoo  and tood and don  and don  and donn and don' dnd don'ttnt won't nt won't ad won't as don't asston't ass  n't ass nn t ass n dt ass n  t ass n  t ass n  thtnhin  thenhin  themsin  them st tthem tf  them tantthem ta dthem to  toem to  s er to  s em to  s am to  s an uo  s andto  s and    s and wnhs and woss and woos and wor sind wor  tnt won   nt won   bd won   bu don   buttoo   but on   but rn   but ra s but rats but rat  but rat etut ratherut rather   rather t aather tetather tea ther teacnher teach er toach em toach tm toach th aoach thetoa h them a h them mst them tnt them tot them to ethem to ltoem to lo er to lonem to lon m to lon   uo lon  tto lon  to  lon  torndon  tor ton  tor ee   tor enn  tor endd tor endlntor endletor endles   endlessn endless  aadless itodless imm  ess immd sss imme ess immene   immensms immensssiimmensstsimmensst tmmensst  fm nsst    ensst     nsst     m  t     td t     thst     thef     them  ou thems uu themsetn toemsean toemsea \n",
      "step: 900, \n",
      "cost : 1.874201, \n",
      "prediction : f you want tou want tou want t u want ton want to  want to  tont to  uont to  u nt to  u l  to  u ld ao tu ld to lu ld a  lu ld a nlu ld a stutld a ssutld a ssi ld asshi fl anssi  o anhhi    dnssi   dtnthi   donthi   dontii   don'si   don'tell don't fl don't al don't ar don't aruton't aru  n't aru  n t aru  u t aru  upt aru  up  aou  up ptou  up pe u  up pep   up pepp  up peppl up peopletp people   people tleeople totoople to lo  e to  m  e to etnle to ethle to etheo to ethermto ether to ether t  ether tonnther to nther to cm er to co er to colem to collm to colle to colle to lolle t  lolle tonlolle towtolle t wot le towoonle towoo occtowoo  o towood amtowood anthwoo  and aoo  and tood and dond and don  and donn and don' dns don'ttnt won't nt won't a  don't as don't asston't ass  n't ass nn t ass nn t ass nn t ass nn t ass nn thtnsinn thenhinn themsinn them stttthem tfn them tantthem to  t em to  toem to  s er to  s em to  s am to  s an uo ss andto  s and   ss and wnhs and woss and wors and wor sind wor  tnt won   nt won   b  don   bu don   buttoo   but on   but rn   but ra   but rats but rath dut rathetut ratherut rather   aather t aather tetather tea ther teacnher teach er toach em toach tm toach th toach thetoa h them a h them mct them tnt them tot them to ethem to ltoem to lo er to lonem to lon m to lon t uo lon ttto lon  to  lon  tornlon  tor ton  tor eo   tor enn  tor end  tor endlntor endletor endles   endlessn endlessi todlessiitodlessiimm  essiimm  ess imme ess immeno   immensms immensssiimmensstsimmensst tmmensst  fmensst    ensst     nsst     m  t     t  t     thst     thef     them  uu thems uu themsetn themsean toemsea \n",
      "step: 1200, \n",
      "cost : 1.948874, \n",
      "prediction : f yo  want to  want to  want d   want don want do  want do ltont do luont do lutnt to lutl  to lutld ao lutld to lutld a  lutld annlutld asstutld asshutld asshi ld asshi fl anshi lo anshi l  anshi l dtnthi l donshi l dontsi l don'si l don'tell don't fl don't al don't ar don't aruton t aru  n't aru  n t aru  u t aru  upt aru  up  aou  up ptou  up pe u  up pep   up pepp  up peppl up pepplpt  pepplpp  pepplppplpeppep potoppee to lp  p po  mree torennle to  thle to  theo to  hhermto ether to ether t  ether tonnther to  ther to cm er to co er to colem to collm to colle to colle to lolle t  lollectonloldectowto ee towoolle towoonlectowoodoe towood o t wood amtowood anohwood and aood and tond and dond and dond and donn and don' and don'ttnt don't nt don't a  don't as aon't asston t ass  n't ass nn t ass nn t ass nn t as  nn t ass nn thtns nn thenh nn thems nn them stttthem tfn them ta tthem to  t em to  toem tas s er taa s em to  s am tos s an uo ss andto  s and   hs and dnhs and doss and dons and don sind don  tnt don   nt don   b  don   bu aan   button   but on   but an   but aa s but aats but aath dut aathetut ratherut rather   aather t aather tatather taa ther taacnher taach er toach em toach tm toach th toach thetoach them act them mch them tnh them tao them to eteer ta ltoem ta lo er ta lonem to lon m to lon't uo lon  tto lon  to  lon  to nlon  tor ton  tor eo   tor enn  tor end  tor endl tor endleto  endles   endlessn entless  tndless atodless amm  eos amm  sss nmme e s ammeno   immensm  immensss immensstsimmensst tmmensst  fmensst    essst  t  osst  t  m  t  t  t  t  t  thst  t  thef     them  o  thems o  themsstn themssan toerssas\n"
     ]
    },
    {
     "name": "stdout",
     "output_type": "stream",
     "text": [
      "step: 1500, \n",
      "cost : 1.862301, \n",
      "prediction : f you want to  want tou want t   want ton want to  want to  tont to  uont to  u nt to  u l  to  u ld ao tu ld to lu ld a  lu ld a nlu ld a stutld a shutld a shi ld asshi fl anshi lo anssi l  anssi l dtnthi l donhhi l dontsi l don'si l don'tell don't fl don't al don't ar don't aruton't aru  n't aru  n t aru  u t aru  u t aru  u   aou  up ptou  up pe u  up pep   up pepp  up peppl up peopletp pepple   people tleeople totoople to lppee to  mree to  tnle to  thle to  theo to  thermto ether to ether t  ether tonnther to  ther to cm er to co er to colem to collm to colle to collecto lollect  lollectonlollectowtollectowotllectowoonlectowoodoectowood o towood amt wood anthaood and aood and tood and dond and dond and donn and don' and don'ttnt won't nt won't a  won't as aon't asston't ass  n't ass nn t ass nn t ass nn t ass nn t a s nn thtnsinn thenhinn themsinn them stttthem tfn them ta tthem tas t em tos toem tos s er tos s em tos s am tos s an uos s andto  s and   ss and wnhs and woss and wors and wor sind wor  tnt won   nt won   b  won   bu aon   buttoo   but on   but rn   but ra   but rats but rath dut rathetut ratherut rather   rather t aather tetather tea ther teacnher teach er toach em toach tm toach th toach thetoach them ach them mshtthem tnhtthem tot toem to ether to ltoem to lo er to lonem to lon m to lon   uo lon  oto lon  oo  lon  tornlon  oor ton  tor eo   tor enn  tor end  tor endl tor endletor endles   endlessn endlessi tndlessiitndless imm  essiimm  essiimme essiimmeno   immensms immensssiimmensstsimmensst tmmensst  fmensst    ensst     nsst     m  t     t  t     thst     thef     them  o  theme u  themsetn themsesn toemsea \n",
      "step: 1800, \n",
      "cost : 1.857751, \n",
      "prediction : f you want tou want tou want t   want ton want to  want to otont to ouant to ou nt to ou ld to ou ld ao tu ld to lu ld a  lu ld a nlu ld a stutld a shutld a shi ld asshi fl anssi lo anssi l  anssi l dtntsi l donshi l dontsi l don'si l don'aell don'a fl don'a al don'a ar don'a aruton'a aru  n't aru  n t aru  udt aru  upt aru  up  aou  up ptou  up pe u  up pep   up pepp  pp peppl up peopletp people   people tleeople totoople to lopee to  mree to etnle to ethle to etheo to ethermto ether to ether t  ether tonnther to  ther to cm er to co er to colem to collm to colle ao collecto lollect  lollectonlollectowtollect wotllectowoonlectowoodoectowood o towood amt aood anthaood and aood and tood and dand and dond and donn and don' and don'atnt won'a nt don'a ad don'a as aon'a asston'a ass  n't ass nn t as  nndt ass nn t ass nn t a s nn thtnsinn thenhinn themsinn them stttthem tfn them ta tthem tasdt em tos toem tos s er tos s em tos s am tos s an uosss andto  s and   ss and wnhs and woss and wors and wor sind wor  tnt won   nt don   bd don   bu aon   buttoo   but an   but rn   but ra   but rats but rath dut rathetut ratherut aather   aather t aather tetather tea ther teacnher teach er toach em toach tm toach th aoach thetoach them ach them mshtthem tnh them tot them to ethem to ltoem to lo er to lonem to lon m to lon   uo lon  oto lon  oo  lon  oornlon  oor ton  tor eo   tor enn  tor endd tor endl tor endletor endles r endlessn endless  andless itndless imm  ess immd sss imme essiimmeno   immensms immensssiimmensstsimmensst tmmensst  fmensst    ensst     nsst     m  t     td t     thst     thef     them  o  thems u  themsetn themsean toemseas\n",
      "step: 2100, \n",
      "cost : 1.849195, \n",
      "prediction : f you want tou want tou want t   want ton want to  want to otont to ouant to ou nt to ou ld to ou ld ao tu ld to lu ld a  lu ld a nlu ld a stutld a shutld asshi ld asshi fl anshi le anshi l  anssi l dtntsi l donshi l dontsi l don'si l don'tell don't fl don't a  don't ar don't aruton't aru  n't aru  n t aru  udt aru  upt aru  up  aou  up ptou  up pe a  up pep   up pepp  up peppl up peopletp people   people t eeople totoopee to  opee to erree to etnle to eth e to ethee to etherrto ether to ether t  ether tonnther to  ther to cr er to co er to colem to collr to colle ao collecto lollect  lollectonlollectowtollect wotllectowoonlectowoodeect wood e towood art wood anthwood and aood and tond and dand and dond and donn and don' and don'ttnt won't nt won't ad won't as aon't asston't ass  n't ass nn t ass nndt ass nn t ass nn t ass nn thtnsinn thenhinn themsinn them stttthem tfn them ta tthem tasdt em tos toem tos s er tos s em tos s ar tos s an uosss andto  s and   ss and wnhs and woss and wors and wor sind wor  tnt won   nt won   bd won   bu aon   button   but an   but rn   but ra   but rats but rath dut rathetut ratherut rather   rather t aather tetather tea ther teacnher teach er toach em toach tr toach th aoach thetoach them ach them rsh them tnh them tot them to ethem to ltoem to lo er to lonem to lon r to lon   uo lon  oto lon  oo  lon  oornlon  oor ton  tor ee   tor enn  tor endd tor endl tor endletor endles r endlessn endlessi andlessiitndlessiimr  essiimmd sssiimme sssiimmene   immensrs immensssiimmensstsimmensst tmmensst  fmensst    ensst     nsst     r  t     td t     thsth    thef     the   o  thems u  themsetn themsean themsea \n",
      "step: 2400, \n",
      "cost : 1.886991, \n",
      "prediction : f tou want tou want to  want to  want ton want to  want to otont to cuant to cutnt to ou ld to lutldhao cutld to lutld ah lutld a nlutld a ttutld a tsutld a tsi md asssi fd a ssi le a ssi l  a dsi l dtntsi l dontsi l donthinl don'si l don'tele don't fl don't a  oon't ar don't aruton't aru  n't aru  n t aru  udt aru  u t aru  u  haou  up ptou  up pe a  up pepa  up pepp  up peppletp pepplet  pepple   people t peopee totoople to    le to  mree to  tnle to eth eoto  theesto ethermto ether to ether th ether tonnnher to nther to cmher to coher to lolem to lollm to colleaao lolle to lolle th lolle tonlolle towtolle t wotlle t woonee towoodeestowood estowood amtoaood anthwood andhaood and tord and dard and dond and donn and don' a d don'ttnt won't nt don't ad don't as aon't asston't ass  n't ass nn t ass nndt ass nn t ass nn tha sinn thtnsinn thensinn themsinn them stt them tfn dde  ton them tosdt em tos toer tos sher tos s em tos s am tos s anetos s andto ss and h ss and dnss and doss and dors and don sind dor ,tnt wor   nt don , bd don   bu aoo   buttor   but ar   but rn   but raap but rats but rath dut rathetut ratherut rather   rather thaather tetather teaather teacnher teachher toach em toach tm toach thaaoach thetoach themhach them mct them tnt them tot ther to ethem to ltoer to loher to lonem to lon m to lon  eto lon  tto lon  toh lon  tornlon  tor to   tor ee   tor enn  tor endd tor endlntor endletor endlss r endlsssn endlsssiaaadlsssiitodlsssiimm  ess immd sssiimme essiimmeness immensms immensssiimmensstsimmensst tmmnnsst  fm nsst   eensst    ensst     m  t     td t     thste    thefh t  themh ou themsouu themsstn themssan therssac\n",
      "step: 2700, \n",
      "cost : 1.865649, \n",
      "prediction : l tou want tou want to  want to  want ton want to mwant to otont to ouant to ou nt to ou ld to lu ldhao cu ld to lu ld ah lu ld a ncu ld a stutld a shutld a shimmd a shi ld a shi le asshi l  andsi l dtntsi l dontsi l donthi l don'si l don'tele don't ld don't a  don't ar don't aruton't aru  n't aru  n t aru  udt aru  upt aru  up haou  up ptou  up pe a  up peoa  up peppm up peppletp peppletp people m people t pepple totoople to  opee to  m ee to etnle to eth eoto  thee to ethermto ether to ether th ether tonnnher to nther to cmher to coher to colem to collm to colleato colle to lolle th lolle toncolle towtolle t wotlle towoonle towoodee towood e towood amtoaood anthwood andhaood and tood and dard and dond and donn and don' and won'ttnt won't nt don't ad won't as aon't asston't ass  n't ass nn t ass nndt ass nn t ass nn thass nn thtnsinn thensinn themsinn them stt them tln them tontthem tosdt em tos toem tos sher tos s em tos s am tos s anetosss andto ss and h ss and wnss and woss and wors and wor sind wor  tnt won , nt don , bd won , bu aoo   buttoo , but ar , but rn   but raap but rats but rath dut rathetut ratherut rather m rather thaather tetather teaather teacnher teachher toach em toach tm toach thatoach thetoach themhach them mct them tnt them tot them to ethem to ltoem to loher to lonem to lon m to lon  eto lon  tto lon  toh lon  torncon  tor ton  tor ee   tor enn  torlendd tor endlntor endletor endles r endlessn endlsssiatndlsssiitodlessiimm  essiimmd sssiimme sssiimmene s immensms immensssiimmensstsimmensst tmmensst  lm nsst   eensst    ensst     m  t     td t     thsth    thelh t  themh o  themsoou themsetn themsean toemsea \n"
     ]
    }
   ],
   "source": [
    "char_list = list(set(sentence))\n",
    "char_dic = {c:idx for idx, c in enumerate(char_list)}\n",
    "x_data = []\n",
    "y_data = []\n",
    "\n",
    "#data\n",
    "seq_length = 10\n",
    "for i in range(len(sentence)-seq_length):\n",
    "    x_str = sentence[i:seq_length+i]\n",
    "    y_str = sentence[i+1:seq_length+i+1]\n",
    "    \n",
    "    x_str = [char_dic[c] for c in x_str]\n",
    "    y_str = [char_dic[c] for c in y_str]\n",
    "    \n",
    "    x_data.append(x_str)\n",
    "    y_data.append(y_str)\n",
    "\n",
    "#parameters\n",
    "input_size = len(char_dic)\n",
    "hidden_size = len(char_dic)\n",
    "nb_classes = len(char_dic)\n",
    "batch_size = len(x_data)\n",
    "\n",
    "with tf.variable_scope(\"sentence11\"):\n",
    "    X = tf.placeholder(tf.int32, [None, seq_length])\n",
    "    Y = tf.placeholder(tf.int32, [None, seq_length])\n",
    "    x_one_hot = tf.one_hot(X, nb_classes)\n",
    "    \n",
    "    cell = tf.contrib.rnn.BasicLSTMCell(hidden_size, state_is_tuple=True)\n",
    "    initial_state = cell.zero_state(batch_size, tf.float32)\n",
    "    outputs, states = tf.nn.dynamic_rnn(cell, x_one_hot, initial_state=initial_state, dtype= tf.float32)\n",
    "    \n",
    "    weights = tf.ones([batch_size, seq_length])\n",
    "    output = tf.argmax(outputs, 2)\n",
    "    seq_cost = tf.contrib.seq2seq.sequence_loss(logits=outputs, targets = Y, weights = weights)\n",
    "    cost = tf.reduce_mean(seq_cost) # mean 은 어떤 형태던지 모든 값의 mean 을 구함!!!\n",
    "    optimizer = tf.train.AdamOptimizer(learning_rate=0.1).minimize(cost)\n",
    "    \n",
    "    prediction = tf.argmax(outputs,2)\n",
    "    \n",
    "with tf.Session() as sess:\n",
    "    sess.run(tf.global_variables_initializer())\n",
    "    for step in range(3001):\n",
    "        c, _ = sess.run([cost, optimizer], feed_dict = {X:x_data, Y:y_data})\n",
    "        p = sess.run(prediction, feed_dict = {X:x_data})\n",
    "        if step%300==0:\n",
    "            p_str = [char_list[int(i)] for seq in p for i in seq]\n",
    "            p_str = \"\".join(p_str)\n",
    "            print(f\"step: {step}, \\ncost : {c:.6f}, \\nprediction : {p_str}\")\n"
   ]
  },
  {
   "cell_type": "code",
   "execution_count": null,
   "metadata": {},
   "outputs": [],
   "source": []
  }
 ],
 "metadata": {
  "kernelspec": {
   "display_name": "Python 3",
   "language": "python",
   "name": "python3"
  },
  "language_info": {
   "codemirror_mode": {
    "name": "ipython",
    "version": 3
   },
   "file_extension": ".py",
   "mimetype": "text/x-python",
   "name": "python",
   "nbconvert_exporter": "python",
   "pygments_lexer": "ipython3",
   "version": "3.7.6"
  }
 },
 "nbformat": 4,
 "nbformat_minor": 4
}
