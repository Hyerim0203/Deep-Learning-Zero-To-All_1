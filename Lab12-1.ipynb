{
 "cells": [
  {
   "cell_type": "code",
   "execution_count": 30,
   "metadata": {},
   "outputs": [],
   "source": [
    "import tensorflow as tf\n",
    "import numpy as np\n",
    "import pprint\n",
    "pp = pprint.PrettyPrinter(indent=4)\n",
    "sess=tf.InteractiveSession()"
   ]
  },
  {
   "cell_type": "markdown",
   "metadata": {},
   "source": [
    "# RNN basic"
   ]
  },
  {
   "cell_type": "code",
   "execution_count": null,
   "metadata": {},
   "outputs": [],
   "source": [
    "# cell 생성\n",
    "hidden_size = 2\n",
    "cell = tf.contrib.rnn.BasicRNNCell(num_units = hidden_size)\n",
    "cell = tf.contrib.rnn.BasicLSTMCell(num_units = hidden_size)\n",
    "\n",
    "cell = tf.keras.layers.SimpleRNNCell(units = hidden_size)\n",
    "\n",
    "cell = tf.nn.rnn_cell.LSTMCell(num_units=hidden_size, state_is_tuple=True)\n",
    "cell = tf.nn.rnn_cell.BasicRNNCCell()\n",
    "cell = tf.nn.rnn_cell.BasicLSTMCell()\n",
    "cell = tf.nn.rnn_cell.GRUCell(rnn_size)\n",
    "\n",
    "\n",
    "# 실행\n",
    "outputs, _states = tf.nn.dynamic_rnn(cell, x_data, dtype=tf.float32)\n",
    "\n",
    "# _states = > 중간의 그것 "
   ]
  },
  {
   "cell_type": "code",
   "execution_count": null,
   "metadata": {},
   "outputs": [],
   "source": [
    "sess=tf.Session()\n",
    "\n",
    "hidden_size = 2 # 결과 size가 2\n",
    "cell = tf.contrib.rnn.BasicLSTMCell(num_units = hidden_size)\n",
    "\n",
    "x_data = np.array([[[1,0,0,0]]], dtype = np.float32)\n",
    "outputs, _states = tf.nn.dynamic_rnn(cell, x_data, dtype=tf.float32)\n",
    "\n",
    "sess.run(tf.global_variables_initializer())\n",
    "pp.pprint(outputs.eval(session=sess))"
   ]
  },
  {
   "cell_type": "code",
   "execution_count": 13,
   "metadata": {},
   "outputs": [],
   "source": []
  },
  {
   "cell_type": "code",
   "execution_count": 24,
   "metadata": {},
   "outputs": [
    {
     "name": "stdout",
     "output_type": "stream",
     "text": [
      "[0. 0. 1. 0.]\n"
     ]
    }
   ],
   "source": [
    "print(l)"
   ]
  },
  {
   "cell_type": "code",
   "execution_count": 19,
   "metadata": {
    "scrolled": true
   },
   "outputs": [
    {
     "name": "stdout",
     "output_type": "stream",
     "text": [
      "array([[[ 0.09565353,  0.04719898],\n",
      "        [ 0.12111682,  0.17112955],\n",
      "        [ 0.03183326,  0.21401575],\n",
      "        [-0.05653878,  0.25052023],\n",
      "        [ 0.04456245,  0.17628841]]], dtype=float32)\n"
     ]
    }
   ],
   "source": [
    "sess=tf.Session()\n",
    "with tf.variable_scope(\"cell_1\") : \n",
    "    # One cell RNN input_dim(4) -> output_dim(2), sequence : 5 <- x_data원소개수=5\n",
    "    hidden_size = 2\n",
    "    cell = tf.contrib.rnn.BasicLSTMCell(num_units = hidden_size)\n",
    "    x_data=np.arange(4, dtype=np.int32)\n",
    "    x_data=tf.one_hot(x_data, 4)\n",
    "    x_data=tf.reshape(x_data, [4,4])\n",
    "    h,e,l,o = x_data.eval(session=sess)\n",
    "    x_data = np.array([[h,e,l,l,o]], dtype=np.float32)\n",
    "    outputs, states = tf.nn.dynamic_rnn(cell, x_data, dtype=tf.float32)\n",
    "    sess.run(tf.global_variables_initializer())\n",
    "    pp.pprint(outputs.eval(session=sess))\n",
    "    print(outputs.shape)#output의 shape는 (input 문자열 개수,sequence,hidden_layer)\n",
    "    \n",
    "# h = [1,0,0,0]; e=[0,1,0,0]; l=[0,0,1,0]; o=[0,0,0,1]\n",
    "# x_data = np.array([[h,e,l,o]])"
   ]
  },
  {
   "cell_type": "markdown",
   "metadata": {},
   "source": [
    "## Batching input"
   ]
  },
  {
   "cell_type": "code",
   "execution_count": 31,
   "metadata": {},
   "outputs": [
    {
     "name": "stdout",
     "output_type": "stream",
     "text": [
      "array([[[1., 0., 0., 0.],\n",
      "        [0., 1., 0., 0.],\n",
      "        [0., 0., 1., 0.],\n",
      "        [0., 0., 1., 0.],\n",
      "        [0., 0., 0., 1.]],\n",
      "\n",
      "       [[0., 1., 0., 0.],\n",
      "        [0., 0., 0., 1.],\n",
      "        [0., 0., 1., 0.],\n",
      "        [0., 0., 1., 0.],\n",
      "        [0., 0., 1., 0.]],\n",
      "\n",
      "       [[0., 0., 1., 0.],\n",
      "        [0., 0., 1., 0.],\n",
      "        [0., 1., 0., 0.],\n",
      "        [0., 1., 0., 0.],\n",
      "        [0., 0., 1., 0.]]], dtype=float32)\n",
      "array([[[ 0.08781026, -0.14008562],\n",
      "        [ 0.10244749, -0.18780306],\n",
      "        [ 0.10326943, -0.06102803],\n",
      "        [ 0.13322932,  0.02323322],\n",
      "        [ 0.22909525, -0.01672404]],\n",
      "\n",
      "       [[-0.00094913, -0.11873899],\n",
      "        [ 0.05858904, -0.08596512],\n",
      "        [ 0.08082239, -0.01478801],\n",
      "        [ 0.1173007 ,  0.04541206],\n",
      "        [ 0.14715661,  0.07848615]],\n",
      "\n",
      "       [[ 0.05084566,  0.04822775],\n",
      "        [ 0.09425249,  0.07605527],\n",
      "        [ 0.13481486, -0.06377019],\n",
      "        [ 0.10928101, -0.1583339 ],\n",
      "        [ 0.10811098, -0.04322229]]], dtype=float32)\n"
     ]
    }
   ],
   "source": [
    "with tf.variable_scope(\"batch_3\"):\n",
    "    # One cell RNN input_dim(4) -> output_dim(2), sequence = 5, batch = 3\n",
    "    # 3 batches \"hello\", \"eolll\", \"lleel\"\n",
    "    hidden_batch = 2\n",
    "    x_data = np.array([[h,e,l,l,o],\n",
    "                      [e,o,l,l,l],\n",
    "                      [l,l,e,e,l]], dtype=np.float32)\n",
    "    pp.pprint(x_data)\n",
    "    \n",
    "    cell = tf.nn.rnn_cell.LSTMCell(num_units=2, state_is_tuple=True)\n",
    "    outputs, states = tf.nn.dynamic_rnn(cell, x_data, dtype=tf.float32)\n",
    "    sess.run(tf.global_variables_initializer())\n",
    "    pp.pprint(outputs.eval(session=sess))"
   ]
  },
  {
   "cell_type": "code",
   "execution_count": 22,
   "metadata": {},
   "outputs": [
    {
     "name": "stdout",
     "output_type": "stream",
     "text": [
      "r\n"
     ]
    }
   ],
   "source": [
    "print(\"r\")"
   ]
  },
  {
   "cell_type": "code",
   "execution_count": 33,
   "metadata": {},
   "outputs": [
    {
     "data": {
      "text/plain": [
       "array([[[ 0.08781026, -0.14008562],\n",
       "        [ 0.10244749, -0.18780306],\n",
       "        [ 0.10326943, -0.06102803],\n",
       "        [ 0.13322932,  0.02323322],\n",
       "        [ 0.22909525, -0.01672404]],\n",
       "\n",
       "       [[-0.00094913, -0.11873899],\n",
       "        [ 0.05858904, -0.08596512],\n",
       "        [ 0.08082239, -0.01478801],\n",
       "        [ 0.1173007 ,  0.04541206],\n",
       "        [ 0.14715661,  0.07848615]],\n",
       "\n",
       "       [[ 0.05084566,  0.04822775],\n",
       "        [ 0.09425249,  0.07605527],\n",
       "        [ 0.13481486, -0.06377019],\n",
       "        [ 0.10928101, -0.1583339 ],\n",
       "        [ 0.10811098, -0.04322229]]], dtype=float32)"
      ]
     },
     "execution_count": 33,
     "metadata": {},
     "output_type": "execute_result"
    }
   ],
   "source": [
    "outputs.eval()[1,1,]"
   ]
  },
  {
   "cell_type": "code",
   "execution_count": null,
   "metadata": {},
   "outputs": [],
   "source": []
  }
 ],
 "metadata": {
  "kernelspec": {
   "display_name": "Python 3",
   "language": "python",
   "name": "python3"
  },
  "language_info": {
   "codemirror_mode": {
    "name": "ipython",
    "version": 3
   },
   "file_extension": ".py",
   "mimetype": "text/x-python",
   "name": "python",
   "nbconvert_exporter": "python",
   "pygments_lexer": "ipython3",
   "version": "3.7.6"
  }
 },
 "nbformat": 4,
 "nbformat_minor": 4
}
