{
 "cells": [
  {
   "cell_type": "markdown",
   "metadata": {},
   "source": [
    "## Shape, axis"
   ]
  },
  {
   "cell_type": "code",
   "execution_count": 14,
   "metadata": {},
   "outputs": [],
   "source": [
    "import numpy as np\n",
    "import tensorflow as tf"
   ]
  },
  {
   "cell_type": "code",
   "execution_count": 12,
   "metadata": {},
   "outputs": [
    {
     "data": {
      "text/plain": [
       "1"
      ]
     },
     "execution_count": 12,
     "metadata": {},
     "output_type": "execute_result"
    }
   ],
   "source": [
    "t = np.arange(0,5, dtype=np.float32)\n",
    "t.ndim"
   ]
  },
  {
   "cell_type": "code",
   "execution_count": 35,
   "metadata": {},
   "outputs": [
    {
     "data": {
      "text/plain": [
       "2"
      ]
     },
     "execution_count": 35,
     "metadata": {},
     "output_type": "execute_result"
    }
   ],
   "source": [
    "aa=np.arange(10).reshape(-1,5)\n",
    "aa.ndim"
   ]
  },
  {
   "cell_type": "code",
   "execution_count": 39,
   "metadata": {},
   "outputs": [
    {
     "data": {
      "text/plain": [
       "array([4])"
      ]
     },
     "execution_count": 39,
     "metadata": {},
     "output_type": "execute_result"
    }
   ],
   "source": [
    "t=tf.constant([1,2,3,4])\n",
    "t2=tf.shape(t)\n",
    "sess =tf.Session()\n",
    "t2.eval(session=sess)\n",
    "# numpy 의 shape 와 tf 의 shape는 같은 역할을 함. [rank,rank,rank,rank,rank]\n",
    "# [rank,rank] => 몇행 몇열\n",
    "\n",
    "# 맨 밖에서 부터 [0,1,2,3,4] 4의 축을 -1이라고 부르기도 함 [0,1,2,3,-1]\n",
    "#axis = 0, axis=1"
   ]
  },
  {
   "cell_type": "code",
   "execution_count": 46,
   "metadata": {},
   "outputs": [
    {
     "name": "stdout",
     "output_type": "stream",
     "text": [
      "(2, 2)\n",
      "(2, 1)\n",
      "(2, 1)\n"
     ]
    }
   ],
   "source": [
    "matrix1 = tf.constant([[1,2],[4,5]], dtype = tf.float32)\n",
    "matrix2 = tf.constant([[1],[2]], dtype = tf.float32)\n",
    "print(matrix1.shape) # 굳이 session 의 실행 없이도 알아볼 수 있음!!!\n",
    "print(matrix2.shape)\n",
    "matrix = tf.matmul(matrix1, matrix2)\n",
    "print(matrix.shape)\n",
    "\n",
    "# shape 는 굳이 session 의 실행 없이도 알아볼 수 있음"
   ]
  },
  {
   "cell_type": "markdown",
   "metadata": {},
   "source": [
    "## Broad casting"
   ]
  },
  {
   "cell_type": "markdown",
   "metadata": {},
   "source": [
    "shape 이 다르더라도 곱이 가능하게 해줌"
   ]
  },
  {
   "cell_type": "code",
   "execution_count": 54,
   "metadata": {},
   "outputs": [
    {
     "data": {
      "text/plain": [
       "array([[1, 2],\n",
       "       [2, 4]])"
      ]
     },
     "execution_count": 54,
     "metadata": {},
     "output_type": "execute_result"
    }
   ],
   "source": [
    "matrix1 = tf.constant([[1,2]])\n",
    "matrix2 = tf.constant(3)\n",
    "# 브로드 캐스팅 결과가 [[]] 로 나옴\n",
    "\n",
    "matrix1 = tf.constant([[1,2]])\n",
    "matrix2 = tf.constant([3,4])\n",
    "# 브로드 캐스팅 결과가 1을 따라서 [[]] 로 나옴\n",
    "\n",
    "matrix1 = tf.constant([[1,2]])\n",
    "matrix2 = tf.constant([[1],[2]])\n",
    "print((matrix1*matrix2).eval(session=tf.Session()))\n",
    "# 브로드 캐스팅 결과가 1와 2를 따라서 [[],[]] 로 나옴"
   ]
  },
  {
   "cell_type": "markdown",
   "metadata": {},
   "source": [
    "## reduce mean/sum"
   ]
  },
  {
   "cell_type": "code",
   "execution_count": 53,
   "metadata": {},
   "outputs": [
    {
     "data": {
      "text/plain": [
       "1"
      ]
     },
     "execution_count": 53,
     "metadata": {},
     "output_type": "execute_result"
    }
   ],
   "source": [
    "tf.reduce_mean([1,2], axis=0).eval(session=tf.Session())\n",
    "# 데이터 type 이 integer 이면 결과값도 integer로 나오게 됨!\n",
    "#조심조심조심조심조심!!!"
   ]
  },
  {
   "cell_type": "code",
   "execution_count": 58,
   "metadata": {},
   "outputs": [
    {
     "name": "stdout",
     "output_type": "stream",
     "text": [
      "[1.5 3.5]\n",
      "[2. 3.]\n",
      "[1.5 3.5]\n"
     ]
    }
   ],
   "source": [
    "x = [[1.,2.],[3.,4.]]\n",
    "print(tf.reduce_mean(x, axis=1).eval(session=tf.Session()))\n",
    "print(tf.reduce_mean(x, axis=0).eval(session=tf.Session()))\n",
    "print(tf.reduce_mean(x, axis=-1).eval(session=tf.Session()))"
   ]
  },
  {
   "cell_type": "code",
   "execution_count": 65,
   "metadata": {},
   "outputs": [
    {
     "name": "stdout",
     "output_type": "stream",
     "text": [
      "[1 1 1]\n",
      "[2 2]\n",
      "[2 2]\n"
     ]
    }
   ],
   "source": [
    "x= [[0,1,2],[3,4,5]]\n",
    "print(tf.argmax(x).eval(session=tf.Session())) # argmax의 디폴트 값은 0, 대부분의 디폴트 값은 0\n",
    "print(tf.argmax(x,1).eval(session=tf.Session()))\n",
    "print(tf.argmax(x,-1).eval(session=tf.Session()))"
   ]
  },
  {
   "cell_type": "markdown",
   "metadata": {},
   "source": [
    "## data 형태 변환"
   ]
  },
  {
   "cell_type": "code",
   "execution_count": 71,
   "metadata": {},
   "outputs": [
    {
     "name": "stdout",
     "output_type": "stream",
     "text": [
      "[[ 0  1  2]\n",
      " [ 3  4  5]\n",
      " [ 6  7  8]\n",
      " [ 9 10 11]]\n",
      "[[ 0  1  2]\n",
      " [ 3  4  5]\n",
      " [ 6  7  8]\n",
      " [ 9 10 11]]\n"
     ]
    }
   ],
   "source": [
    "t = np.arange(12).reshape(-1,3)\n",
    "print(t)\n",
    "print(tf.reshape(t, shape=(-1,3)).eval(session=tf.Session()))"
   ]
  },
  {
   "cell_type": "code",
   "execution_count": 87,
   "metadata": {},
   "outputs": [
    {
     "name": "stdout",
     "output_type": "stream",
     "text": [
      "[[ 0  1  2]\n",
      " [ 3  4  5]\n",
      " [ 6  7  8]\n",
      " [ 9 10 11]]\n",
      "[0 1 2]\n",
      "[[[0]\n",
      "  [1]\n",
      "  [2]]]\n"
     ]
    }
   ],
   "source": [
    "print(tf.squeeze(t).eval(session=tf.Session()))\n",
    "print(tf.squeeze([[[0],[1],[2]]]).eval(session=tf.Session()))\n",
    "# squeeze 라는 것은 [[[0],[1],[2]]] 이런 형식의 데이터 [3,1,1] / [3,1] 일 때 [3] 으로 펴주게 됨\n",
    "# 다른 형태이면 아무것도 안함\n",
    "# numpy 의 flatten 은 어떤 형식이던지 쫙 펴줌 => 행을 기준으로 펴주게 됨\n",
    "\n",
    "print(tf.expand_dims([[0,1,2]],2).eval(session=tf.Session())) # [data, 늘릴 차원] \n",
    "# ex) [data, 1] => 1차원을 늘리겠다 ex) [data,2] => 2차원을 늘리겠다"
   ]
  },
  {
   "cell_type": "markdown",
   "metadata": {},
   "source": [
    "## One hot"
   ]
  },
  {
   "cell_type": "code",
   "execution_count": 89,
   "metadata": {},
   "outputs": [
    {
     "data": {
      "text/plain": [
       "array([[[1., 0., 0.]],\n",
       "\n",
       "       [[0., 1., 0.]],\n",
       "\n",
       "       [[0., 0., 1.]],\n",
       "\n",
       "       [[1., 0., 0.]]], dtype=float32)"
      ]
     },
     "execution_count": 89,
     "metadata": {},
     "output_type": "execute_result"
    }
   ],
   "source": [
    "tf.one_hot([[0],[1],[2],[0]], depth = 3).eval(session=tf.Session())\n",
    "# depth 는 y의 unique() 의 개수\n",
    "# 차원이 하나 늘어나게 됨\n",
    "# [[0,1,0,0]] 으로 나오기 때문에!"
   ]
  },
  {
   "cell_type": "markdown",
   "metadata": {},
   "source": [
    "## cast"
   ]
  },
  {
   "cell_type": "code",
   "execution_count": 91,
   "metadata": {},
   "outputs": [
    {
     "name": "stdout",
     "output_type": "stream",
     "text": [
      "[1 2 3]\n",
      "[1 0 1 0]\n"
     ]
    }
   ],
   "source": [
    "print(tf.cast([1.8,2.2,3.3], dtype=tf.int32).eval(session=tf.Session()))\n",
    "print(tf.cast([True,False,1==1,1!=1], dtype=tf.int32).eval(session=tf.Session()))"
   ]
  },
  {
   "cell_type": "markdown",
   "metadata": {},
   "source": [
    "## stack"
   ]
  },
  {
   "cell_type": "code",
   "execution_count": 96,
   "metadata": {},
   "outputs": [
    {
     "name": "stdout",
     "output_type": "stream",
     "text": [
      "[[[1 3]]\n",
      "\n",
      " [[2 5]]\n",
      "\n",
      " [[3 6]]]\n",
      "[[[1 3]\n",
      "  [2 5]\n",
      "  [3 6]]]\n",
      "[[[1 2 3]\n",
      "  [3 5 6]]]\n"
     ]
    }
   ],
   "source": [
    "x=[[1,3]]\n",
    "y=[[2,5]]\n",
    "z=[[3,6]]\n",
    "print(tf.stack([x,y,z]).eval(session=tf.Session())) # 디폴트는 0임\n",
    "print(tf.stack([x,y,z],1).eval(session=tf.Session()))\n",
    "print(tf.stack([x,y,z],2).eval(session=tf.Session()))\n",
    " \n",
    "# 어떤 방향으로 쌓던지 한차원이 늘어나게 됨\n",
    "# stack 에서의 axis는 쌓은 뒤 한차원이 늘어났을 때의 axis 임"
   ]
  },
  {
   "cell_type": "markdown",
   "metadata": {},
   "source": [
    "## Ones and Zeros like  \n",
    "똑같은 형태, dtype의 0으로 가득찬/1로 가득찬 array 를 생성하고 싶을 때 사용"
   ]
  },
  {
   "cell_type": "code",
   "execution_count": 99,
   "metadata": {},
   "outputs": [
    {
     "name": "stdout",
     "output_type": "stream",
     "text": [
      "[[1. 1. 1.]\n",
      " [1. 1. 1.]]\n",
      "[[0. 0. 0.]\n",
      " [0. 0. 0.]]\n"
     ]
    }
   ],
   "source": [
    "x = [[0.,1.,2.],[2.,1.,0.]]\n",
    " \n",
    "print(tf.ones_like(x).eval(session=tf.Session()))\n",
    "print(tf.zeros_like(x).eval(session=tf.Session()))"
   ]
  },
  {
   "cell_type": "markdown",
   "metadata": {},
   "source": [
    "## Zip"
   ]
  },
  {
   "cell_type": "code",
   "execution_count": 100,
   "metadata": {},
   "outputs": [
    {
     "name": "stdout",
     "output_type": "stream",
     "text": [
      "1 4\n",
      "2 5\n",
      "3 6\n"
     ]
    }
   ],
   "source": [
    "for a,b in zip([1,2,3],[4,5,6]):\n",
    "    print(a,b)"
   ]
  },
  {
   "cell_type": "code",
   "execution_count": null,
   "metadata": {},
   "outputs": [],
   "source": [
    "import seaborn as sns\n",
    "import numpy as np\n",
    "titanic = sns.load_dataset('titanic')\n",
    "df = titanic[['age','fare','pclass']][:10]\n",
    "df # titanic 데이터 불러오기 "
   ]
  },
  {
   "cell_type": "code",
   "execution_count": null,
   "metadata": {},
   "outputs": [],
   "source": []
  }
 ],
 "metadata": {
  "kernelspec": {
   "display_name": "Python 3",
   "language": "python",
   "name": "python3"
  },
  "language_info": {
   "codemirror_mode": {
    "name": "ipython",
    "version": 3
   },
   "file_extension": ".py",
   "mimetype": "text/x-python",
   "name": "python",
   "nbconvert_exporter": "python",
   "pygments_lexer": "ipython3",
   "version": "3.6.5"
  }
 },
 "nbformat": 4,
 "nbformat_minor": 2
}
