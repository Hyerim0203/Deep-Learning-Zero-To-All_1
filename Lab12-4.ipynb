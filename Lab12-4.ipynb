{
 "cells": [
  {
   "cell_type": "code",
   "execution_count": 1,
   "metadata": {},
   "outputs": [],
   "source": [
    "import tensorflow as tf\n",
    "import numpy as np\n",
    "sess=tf.InteractiveSession()"
   ]
  },
  {
   "cell_type": "code",
   "execution_count": 2,
   "metadata": {},
   "outputs": [],
   "source": [
    "sentence = (\"if you want to build a ship, don't drum up people together to \"\n",
    "           \"collect wood and don't assign them tasks and work, but rather \"\n",
    "           \"teach them to long for endless immensity of the sea.\")"
   ]
  },
  {
   "cell_type": "markdown",
   "metadata": {},
   "source": [
    "# Multi RNN with Fully connected"
   ]
  },
  {
   "cell_type": "code",
   "execution_count": 31,
   "metadata": {},
   "outputs": [],
   "source": [
    "char_list = list(set(sentence))\n",
    "char_dic = {c:c_idx for c_idx, c in enumerate(char_list)}\n",
    "\n",
    "seq_length = 12\n",
    "x_data=[]\n",
    "y_data=[]\n",
    "\n",
    "for i in range(len(sentence)-seq_length):\n",
    "    x_str = sentence[i:i+seq_length]\n",
    "    y_str = sentence[i+1:i+1+seq_length]\n",
    "    \n",
    "    x_num = [char_dic[s] for s in x_str]\n",
    "    y_num = [char_dic[s] for s in y_str]\n",
    "    \n",
    "    x_data.append(x_num)\n",
    "    y_data.append(y_num)\n",
    "    \n",
    "with tf.variable_scope(\"MultiRNN_FC_no_activation_function___\"):\n",
    "    #parameters\n",
    "    hidden_size = len(char_list)\n",
    "    nb_classes = len(char_list)\n",
    "    batch_size = len(x_data)\n",
    "    \n",
    "    X = tf.placeholder(tf.int32, [None, seq_length]) #int로 받아야 one_hot\n",
    "    Y = tf.placeholder(tf.int32, [None, seq_length]) #int로 받아야 곱 가능\n",
    "    # seq2seq 비용함수를 적용하려면 반드시 batch*seq 의 크기여야 함!!!!!\n",
    "    x_one_hot = tf.one_hot(X, nb_classes)\n",
    "    # 여러개 쌓으면 쌓을 수록 모델이 정교해짐\n",
    "    cell = tf.contrib.rnn.BasicLSTMCell(hidden_size, state_is_tuple=True)\n",
    "    cell = tf.contrib.rnn.MultiRNNCell([cell]*2, state_is_tuple=True)\n",
    "    # cell 을 세로로 세개 쌓은 것과 동일\n",
    "    \n",
    "    # state_is_tuple 은 [1,2],[3,4]가 False 면 [1,2,3,4] True면 [[1,2],[3,4]]    \n",
    "    initial_state = cell.zero_state(batch_size, tf.float32)\n",
    "    outputs, states = tf.nn.dynamic_rnn(cell, x_one_hot,\n",
    "                   dtype=tf.float32)\n",
    "    \n",
    "    # softmax -> 다 같은 cell 을 통해서 나온 아이들 이기 때문에 하나의 sotfmax 사용\n",
    "    # cnn은 진짜로 feature extract 이고 rnn 은 원래 결과를 도출하는데,\n",
    "    # rnn 도 cnn 처럼 feature extract 한 것 처럼 생각하고 softmax 로 결과를 도출\n",
    "    \n",
    "    x_for_softmax = tf.reshape(outputs, [-1, hidden_size])\n",
    "    softmax_w1= tf.get_variable(\"softmax_w1\", [hidden_size, nb_classes],\n",
    "            initializer = tf.contrib.layers.xavier_initializer())\n",
    "    softmax_b1= tf.get_variable(\"sotfmax_b1\", [nb_classes],\n",
    "            initializer = tf.contrib.layers.xavier_initializer())\n",
    "    outputs = tf.matmul(x_for_softmax,softmax_w1)+softmax_b1\n",
    "    # entropy cost 함수를 구할 필요가 없기 때문에 굳이 softmax 쓰지 않음.\n",
    "    outputs = tf.reshape(outputs, [batch_size, seq_length, nb_classes])\n",
    "    # output의 shape와 동일 \n",
    "\n",
    "    weights = tf.ones([batch_size, seq_length])\n",
    "    seq_cost = tf.contrib.seq2seq.sequence_loss(logits=outputs,\n",
    "    targets = Y, weights=weights) # activation fuction 을 거치지 않은 값으로 해야 성능이 좋음.\n",
    "    cost = tf.reduce_mean(seq_cost)\n",
    "    train = tf.train.AdamOptimizer(learning_rate=0.1).minimize(cost)"
   ]
  },
  {
   "cell_type": "code",
   "execution_count": 23,
   "metadata": {},
   "outputs": [
    {
     "name": "stdout",
     "output_type": "stream",
     "text": [
      "step:0, loss: 3.2466251850128174, predicted : rrrlddddllllddddddddlldddddddddlllddddddddllldddlldrrllldddddddllllddddddllllldddddllrllldddddlldlddddddddlllddddddddlllddddddddddddddddddlllllldddddlllllldlrlllllllllldllllllllddlllllllllddllddldddddddllrrrrdddddlllddddddddlllldddddddlllllddddddlllllldddddlllllllddddllllllllddlllllllllldlllllllllllrllllllllllllllllllllllldddddlldddddddrdlldddddldrrrrrrdddddlllllddddddlllldddddddllldddddddddlldddddddddllldddddddlllllddddddllllllllllllllllllddddlllllllllldlllllllllddlllllllllldllllllllllllllllllllllldllllllllllllllllllllllldrllllllllddllllllllldddllllddddddddddddddddddddddddddddddddddddddddddddddddddddddddllrrdddddddllddddddddddlddddddddddlldddddddddllldddddddllllldddddddrllllllddddrllllldddddrllllllddddrrlllllllrrrrllllllldlrllllllllllrrllllllllrllddddddllrrdddddddllrrrddddddlrrrrrdrrdrrrrrrrrllllrrrrrrrrddddrrrrrrr.dlrrrrrrrrrrlrrrrrrrrrrrlrrrrrrrrrrrlrrrrdddrrrrdddddddddlllddddddddlllldldddddlllldldddrlrrllllddrrrrrrrdddddrdlldddddldrrrrrddddlllllllldddlllllldddddllllldddddddlllldddddddllllldddddllllllldddrllllllllddrllllllllldrrlllllllllrrllllllllddllllldddddddllddddddddddddddddddddddddddddddddddddddddddddddddddddddddddlldddddddddddddddddddddddddddddddddldddddddddllldddddllllllldddddddlllllddddddllllllddddddlllllldldddllllllllddlrlrrrlllddrrrrrrlllldlrlrllllllllrrrrrllllllllllllllllldllldllldddddddddlddddddddddldddddddddlldddddddddllldddddddddddddddddddddddddddddddddddddddddddddlldddddddddddddddddddddddddddddddddddddddddddlllddddddddddddlldddddddddldddddddddddlddddddddddllddrlllldlllldllllllllllllllllllllllldddddddddddddddddddddddddddddddddddlddddddddddllddddddddddlllldddddddlllddddddddlllldddddddllllllrdlllllllllddddllllllllddlllllllllllllllllllllllllllllllllllllllllllldddddllddddddddlllrlddddddlllllldddddllldddddddddlddddddddddlldddddddddlllldddddddllllddddddddlllldddddddllllldddddlllllllddddlllllllldddrlrlllllldrrrrlllrlldrrrrrlrrrlddllrlccccddddldddclddddddddddldddddddlllllddddddddrrdddddddddrrdddddddddddddddddddddddddddddddddd\n",
      "step:300, loss: 0.18728001415729523, predicted : p you want t you want totou want to  u want to b  want to butwant to buitont to builont to buildnd to build d to build a ao build a to cuild a s  luild a sh build a shitutld a shipuild a ship,tld a ship, pd a ship, de a ship, do a ship, dontnship, don'nship, don'tthip, don't sip, don't dep, don't drp, don't drue don't drum bon't drum ton't arum u n't arum up 't drum up dt arum up pt drum up pe arum up peotoum up peop um up peopl m up peoplet up people  tp people ttp people tot people togepeople togeteople togeteople togethmple togethe le togetheree together ectogether tmtogether toto ether to   ether to c ether to coether to colmher to coll em te colleem to collecm to collect te collect to collect w  lollect wo bollect wootollect woodhllect wood  lect wood aeect wood anect wood andmt wood and h wood and d aood and dotord and donord and don' d and don't  and don't  a d don't atnd won't asnd won't assd don't assi aon't assigton't assign n't assign  't dssign tdt assign tht dssign the assign themtnsign them nsign them tsign them tasgn them taspn them taske them tasksdthem tasks toem tosks a em tosks anem tosks andm tosks and  tosks and wtosks and wo sks and wornss and workss and work,s and work, sand work, btnd work, bund work, butd dork, but  aork, but rtork, but raork, but rat  , but rath , but rathes but rather but rather tut rather tui rather tet rather tea aather teactather teach ther teach nher teach t em teach them toach them toach them teach them toach them t ach them tomch them to nh them to lh them to loethem to lontoem to long em to long em to long fm to long fo to long forto cong for   long for e bong for entong for endeng for endl ' for endled for endlesefor endlesstor endless  r endless i  endless im tndless immtndless immemsless immend ess immens ess immensiecs immensitms immensitysiimmensity sammensity otmmensity ofpmensity of  ensity of t nsity of thmsity of thedity of the sgy of the spy of the se  of the sea of the sea.\n",
      "step:600, loss: 0.1863863319158554, predicted : f you want toyou want totou want to ou want to b  want to butwant to buitont to builont to buildnd to build d to build a to build a to luild a s  build a sh cuild a shitutld a shiputld a ship,tld a ship, fd a ship, de a ship, do anship, dontnship, don'nship, don'tthip, don't sip, don't dep, don't drf, don't dru, don't drum bon't drum ton't arum u n't arum up 't arum up dt arum up pt arum up pe trum up peotoum up peop um up peopl m up peoplet up people  tp people ttp people tot people tog,people togeteople toget,ople togethnple togethe le together,e together e together tntogether toto ether to   ether to c ether to conther to colnher to coll em to colleem to collecn to collect to collect to lollect w  bollect wo collect wootollect woodollect wood  lect wood aeect wood ane t wood andnt wood and o wood and d tood and dotood and donood and don' d and don't  and don't  and don't atnd don't asnd won't assd don't assi aon't assigton't assign n't assign  't assign tdt assign tht assign the tssign themtnsign them nkign them tsign them tastn them tasfn them taskn them tasksdthem tasks toem tosks a em tosks anem tosks andn tosks and  tosks and wtosks and wo sks and wornks and workss and work,s and work, sand work, btnd dork, bund work, butd dork, but  aork, but rtook, but raook, but rat k, but rath , but rathes but rather but rather tut rather tut rather tet rather tea tather teactather teach ther teach nher teach t em toach them toach then toach them toach them toach them t ach them tonch them to nh them to lo them to loethem to lontoem to long em to long em to long fn to long fo to long forto long for   bong for e cong for entong for endeng for endl ' for endled for endlesnfor endlesstor endless or endless i kendless im tndless immtndless immensless immend ess immens ess immensie s immensitns immensitysiimmensity sammensity otmmensity offmensity of  ensity of t nsity of thnsity of thedity of the sty of the sfy of the se  of the seaoof the sea.\n",
      "step:900, loss: 0.18624499440193176, predicted : m you want toyou want totou want to ou want to bn want to bumwant to buitont to builont to buildnd to build d to build a wo build a to build a s  build a shnbuild a shituild a shipuild a ship,mld a ship, md a ship, de a ship, do anship, dontnship, don'nship, don'tthip, don't sip, don't dep, don't drm, don't drul don't drum bon't drum ton't arum u n't arum upn't arum up dt arum up pt arum up pe wrum up peotoum up peop um up peopl m up peoplem up people  tp people ttp people tom people toglpeople togeteople togetlople togethnple togethenle togetherle together estogether tntogether toto ether to   ether to cnether to conther to colnher to coll er te colleer te collecn te collect te collect to bollect w  bollect wonbollect wootollect woodtllect wood nlect wood aeect wood anest wood andnt wood and t wood and d wood and dotord and donood and don'nd and don'tn and don't  and don't atnd won't asnd won't assd won't assi aon't assigton't assign n't assign n't assign tdt assign tht assign the wssign themtnsign them nsign them tsign them tasgn them tasmn them taskn them tasksdthem tasks toem tosks a er tosks aner tasks andn tasks and  tasks and wtosks and wo sks and wornss and workss and work,s and work, sand work, btnd work, bund work, butd work, but  aork, but rtork, but raook, but ratn , but rath , but rathes but rather but rather tui rather tui rather tem rather tea wather teactather teach ther teach nher teach t er teach ther teach then teach them teach them toach them t ach them tonch them to nh them to lt them to loethem to lontoem to long er to long er ta long fn ta long fo ta long forto bong for   bong for enbong for entong for endeng for endln' for endled for endlesnfor endlesstor endless or endless in endless im tndless immtndless immendless immend ess immens ess immensiess immensitns immensitysiimmensity sammensity otmmensity ofmmensity of  ensity of t nsity of thndity of thedity of the sgy of the smy of the se  of the seaoof the sea.\n",
      "step:1200, loss: 0.18624894320964813, predicted : m you want t you want totou want to  u want to bn want to bumwant to buitont to builont to buildnd to build d to build a ro build a to build a s  luild a shnluild a shituild a shipuild a ship,mld a ship, md a ship, de a ship, do a ship, dontnship, don'nship, don'tthip, don't  ip, don't dep, don't drm, don't dru  don't drum bon't drum ton't arum u n't arum upn't arum up dt arum up pt arum up pe rrum up peotoum up peop um up peopl m up peoplem up people  tp people ttp people tom people tog people togeteople toget ople togethrple togethenle together e together e together trtogether toto ether to   ether to cnether to co ther to colrher to coll em te colleem te collecr te collect te collect to bollect w  lollect wonlollect wootollect woodhllect wood nlect wood aeect wood ane t wood andrt wood and h wood and d rood and dotord and donord and don'nd and don'tn and don't  a d don't atnd don't asnd don't assd don't assi aon't assigton't assign n't assign n't assign tdt assign tht assign the rssign themtnsign them nkign them t  gn them ta gn them tasmn them task  them tasksdthem tasks toem tasks a em tasks anem tasks andr tasks and  tasks and wtosks and wo sks and wornks and work s and work,, and work,  ind work, btnd dork, bund dork, butd dork, but  aork, but rtork, but raork, but ratn , but rath , but rathe, but rather but rather tui rather tui rather tem rather tea rather teactather teach ther teach nher teach t em teach them teach ther teach them teach them toach them t ach them torch them to nh them to lh them to loethem to lontoem ta long em ta long em ta long fr ta long fo ta long forto bong for   long for enlong for entong for endeng for endln' for endled for endles for endlesstor endless  r endless in endless im tndless immtndless immerdless immend ess immens ess immensie s immensitrs immensity  immensity  immensity otmmensity ofmmensity of  ensity of t nsity of thrdity of thedity of the  gy of the smy of the se  of the sea of the sea.\n"
     ]
    },
    {
     "name": "stdout",
     "output_type": "stream",
     "text": [
      "step:1500, loss: 0.18597814440727234, predicted : f you want toyou want totou want to  u want to bn want to butwant to buitont to builont to buildnd to build d to build a to build a to build a s  build a shnbuild a shitutld a shiputld a ship,tld a ship, fd a ship, de a ship, do a ship, dontnship, don'nship, don'tthip, don't sip, don't dep, don't drf, don't drue don't drum bon't drum ton't drum u n't drum upn't arum up dt drum up pt drum up pe trum up peotoum up peop um up peopl m up peoplet up people  tp people ttp people tot people togepeople togeteople togeteople togethnple togethenle togetheree together ectogether tntogether toto ether to   ether to cnether to conther to colnher to coll em to colleem to collecn to collect to collect to bollect w  bollect wonbollect wootollect woodtllect wood nlect wood aeect wood anect wood andnt wood and t wood and d tood and dotord and donord and don'nd and don'tn and don't  a d don't atnd don't asnd won't assd don't assi aon't assigton't dssign n't dssign n't assign tdt dssign tht dssign the tssign themtnsign them nsign them tsign them tastn them tasfn them taskn them tasksdthem tasks toem tasks a em tasks anem tasks andn tasks and  tasks and wtosks and wo sks and wornss and workss and work,s and work, sand work, btnd dork, bund work, butd dork, but  aork, but rtork, but raork, but ratnk, but rath , but rathes but rather but rather tut rather tut rather tet rather tea tather teactather teach ther teach nher teach t em toach them toach then toach them toach them toach them t ach them tonch them to nh them to lt them to loethem to lontoem ta long em ta long em ta long fn ta long fo ta long forto bong for   bong for enbong for entong for endeng for endln' for endled for endlesnfor endlesstor endless or endless inkendless im tndless immtndless immendless immend ess immens ess immensiecs immensitns immensitysiimmensity sammensity otmmensity offmensity of  ensity of t nsity of thndity of thedity of the sty of the sfy of the se  of the sea of the sea.\n",
      "step:1800, loss: 0.1859070360660553, predicted : t you want toyou want totou want to ou want to b  want to buiwant to buitont to builont to buildnd to build d to build a ao build a to luild a s  luild a sh luild a shituild a shipuild a ship,ild a ship, td a ship, de a ship, do anship, dontnship, don'nship, don'tthip, don't  ip, don't dep, don't drt, don't dru, don't drum don't drum ton't arum u n't arum up 't arum up dt arum up pt arum up pe arum up peotoum up peop um up peopl m up peoplei up people  tp people ttp people toi people tog,people togeteople toget,ople togethmple togethe le together,e together ectogether tmtogether toto ether to   ether to c ether to coether to colmher to coll er te colleer te collecm te collect te collect to lollect w  lollect wo lollect wootollect woodollect wood  lect wood aeect wood anect wood andmt wood and o wood and d aood and dotood and donood and don' d and don't  and don't  and don't atnd won't asnd won't assd won't assi aon't assigton't assign n't assign  't assign tdt assign tht assign the assign themtnsign them nkign them t ign them ta gn them tastn them taske them tasksdthem tasks toem tasks a er tasks aner tasks andm tosks and  tasks and wtosks and wo sks and wornks and work s and work,, and work,  ind work, btnd work, bund work, butd work, but  aork, but rtook, but raook, but rat k, but rath , but rathe, but rather dut rather tui rather tui rather tei rather tea aather teactather teach ther teach nher teach t er teach ther teach them teach them teach them toach them t ach them tomch them to nh them to lo them to loethem to lontoem ta long er ta long er ta long fm to long fo ta long forto long for   long for e long for entong for endeng for endl ' for endled for endlesefor endlesstor endless or endless i kendless im tndless immtndless immemsless immend ess immens ess immensiecs immensitms immensity iimmensity  immensity otmmensity oftmensity of  ensity of t nsity of thmsity of thedity of the  gy of the sty of the se  of the seaoof the sea.\n",
      "step:2100, loss: 0.18594594299793243, predicted : p you want toyou want totou want to ou want to bn want to buiwant to buitont to builont to buildnd to build d to build a do build a to build a s  build a shnbuild a shitutld a shipuild a ship,ild a ship, pd a ship, de a ship, do anship, dontnship, don'nship, don'tthip, don't iip, don't dep, don't drp, don't drul don't drum don't drum ton't drum u n't drum upn't drum up dt drum up pt drum up pe drum up peotoum up peop um up peopl m up peoplei up people  tp people ttp people toi people toglpeople togeteople togetlople togethnple togethenle togetherle together estogether tntogether toto ether to   ether to cnether to coether to colnher to coll er to colleer to collecn to collect to collect to bollect w  bollect wonbollect wootollect woodtllect wood nlect wood aeect wood anest wood andnt wood and t wood and d dood and dotord and donord and don'nd and don'tn and don't  and don't atnd don't asnd don't assd don't assi aon't assigton't dssign n't dssign n't dssign tdt dssign tht dssign the dssign themtnsign them nsign them tiign them taitn them taspn them taske them tasksdthem tasks toem tasks a er tasks aner tasks andn tosks and  tosks and wtosks and wo sks and wornss and workis and work,, and work, iind work, btnd dork, bund dork, butd dork, but  aork, but rtork, but raork, but ratnk, but rath , but rathe, but rather dut rather tut rather tui rather tei rather tea dather teactather teach ther teach nher teach t er toach ther toach then toach them toach them toach them t ach them tonch them to nh them to lt them to loethem to lontoem ta long er ta long er ta long fn to long fo to long forto bong for   bong for enbong for entong for endeng for endln' for endled for endlesefor endlesstor endless or endless inkendless im tndless immtndless immendless immend ess immens ess immensiess immensitns immensityiiimmensity iimmensity otmmensity ofpmensity of  ensity of t nsity of thndity of thedity of the ity of the spy of the se  of the seaoof the sea.\n",
      "step:2400, loss: 0.18588604032993317, predicted : l you want toyou want totou want to ou want to b  want to butwant to buitont to builont to buildnd to build d to build a ao build a to build a s  build a sh luild a shituild a shipuild a ship,tld a ship, ld a ship, de a ship, do anship, dontnship, don'nship, don'tthip, don't sip, don't dep, don't drl, don't drul don't drum bon't drum ton't arum u n't arum up 't arum up dt arum up pt arum up pe arum up peotoum up peop um up peopl m up peoplet up people  tp people ttp people tot people toglpeople togeteople togetlople togethrple togethe le togetherle together ectogether trtogether toto ether to   ether to c ether to coether to colrher to coll er to colleer to collecr te collect to collect to bollect w  bollect wo lollect wootollect woodollect wood  lect wood aeect wood anect wood andrt wood and o wood and d aood and dotood and donood and don' d and don't  and don't  and don't atnd won't asnd won't assd won't assi aon't assigton't assign n't assign  't assign tdt assign tht assign the assign themtnsign them nsign them tsign them tastn them tasln them taske them tasksdthem tasks toem tasks a er tasks aner tasks andr tosks and  tasks and wtosks and wo sks and wornss and workss and work,s and work, sand work, btnd work, bund work, butd work, but  aork, but rtook, but raook, but rat  , but rath , but rathes but rather but rather tui rather tui rather tet rather tea aather teactather teach ther teach nher teach t er toach ther toach ther teach them toach them toach them t ach them torch them to nh them to lo them to loethem to lontoem ta long er ta long er ta long fr to long fo ta long forto bong for   bong for e long for entong for endeng for endl ' for endled for endlesefor endlesstor endless or endless i  endless im tndless immtndless immersless immend ess immens ess immensiecs immensitrs immensitysiimmensity sammensity otmmensity oflmensity of  ensity of t nsity of thrsity of thedity of the sty of the sly of the se  of the seaoof the sea.\n",
      "step:2700, loss: 0.18586519360542297, predicted : g you want t you want totou want to  u want to bn want to buiwant to buitont to builont to buildnd to build d to build a ro build a to build a s  build a shnbuild a shituild a shipuild a ship,ild a ship, gd a ship, de a ship, do anship, dontnship, don'nship, don'tthip, don't sip, don't dep, don't drg, don't dru, don't drum don't drum ton't drum u n't drum upn't drum up dt arum up pt drum up pe rrum up peotoum up peop um up peopl m up peoplei up people  tp people ttp people toi people tog,people togeteople toget,ople togethnple togethenle together,e together estogether tntogether toto ether to   ether to cnether to conther to colnher to coll em te colleem te collecn te collect te collect to bollect w  bollect wonbollect wootollect woodtllect wood nlect wood aeect wood anest wood andnt wood and t wood and d rood and dotord and donord and don'nd and don'tn and don't  and don't atnd don't asnd don't assd don't assi aon't assigton't dssign n't dssign n't dssign tdt assign tht dssign the rssign themtnsign them nsign them tsign them tasgn them tasgn them taskn them tasksdthem tasks toem tasks a em tasks anem tosks andn tasks and  tosks and wtosks and wo sks and wornss and workss and work,, and work, sind work, btnd dork, bund dork, butd dork, but  aork, but rtork, but raork, but ratn , but rath , but rathe, but rather dut rather tui rather tui rather tei rather tea rather teactather teach ther teach nher teach t em teach them teach then teach them teach them toach them t ach them tonch them to nh them to lt them to loethem to lontoem ta long em ta long em to long fn ta long fo to long forto bong for   bong for enbong for entong for endeng for endln' for endled for endlesnfor endlesstor endless  r endless in endless im tndless immtndless immendless immend ess immens ess immensiess immensitns immensitysiimmensity simmensity otmmensity ofgmensity of  ensity of t nsity of thndity of thedity of the sgy of the sgy of the se  of the sea of the sea.\n"
     ]
    }
   ],
   "source": [
    "sess =tf.Session()\n",
    "sess.run(tf.global_variables_initializer()) # 변수를 할당하는 동시에 초기화 기능\n",
    "for step in range(3000):\n",
    "    c, p, _ = sess.run([cost, outputs, train], feed_dict={X:x_data,\n",
    "                                                             Y:y_data})\n",
    "    if step%300==0:\n",
    "        p = np.argmax(p, axis=2)\n",
    "        p_str = [char_list[c_idx] for s in p for c_idx in s]\n",
    "        p_str = \"\".join(p_str)\n",
    "        print(f\"step:{step}, loss: {c}, predicted : {p_str}\")\n"
   ]
  },
  {
   "cell_type": "code",
   "execution_count": 27,
   "metadata": {},
   "outputs": [
    {
     "name": "stdout",
     "output_type": "stream",
     "text": [
      "t you want to build a ship, don't drum up people together to collect wood and don't assign them tasks and work, but rather teach them to long for endless immensity of the sea."
     ]
    }
   ],
   "source": [
    "p = sess.run(outputs, feed_dict = {X:x_data})\n",
    "p = np.argmax(p, 2)\n",
    "for idx, seq in enumerate(p):\n",
    "    p_str = [char_list[i] for i in seq]\n",
    "    if idx == 0:\n",
    "        print(\"\".join(p_str), end=\"\") # 첫번째 문장만 다 출력하고\n",
    "    else:\n",
    "        print(\"\".join(p_str)[-1], end=\"\") # 나머지는 끝에 하나만 출력하는 식으로 문장을 형성"
   ]
  },
  {
   "cell_type": "markdown",
   "metadata": {},
   "source": [
    "# Dynamic RNN"
   ]
  },
  {
   "cell_type": "code",
   "execution_count": null,
   "metadata": {},
   "outputs": [],
   "source": [
    "sequence_length=[5,2,3] # 각각의 sequence length의 인자를 알려줌으로써 길이가 다른 input 해결 가능\n",
    "# tf.nn.dynamic_rnn 의 인자\n",
    "# 결과는 나머지 빈공간을 0으로 채워서 반환"
   ]
  }
 ],
 "metadata": {
  "kernelspec": {
   "display_name": "Python 3",
   "language": "python",
   "name": "python3"
  },
  "language_info": {
   "codemirror_mode": {
    "name": "ipython",
    "version": 3
   },
   "file_extension": ".py",
   "mimetype": "text/x-python",
   "name": "python",
   "nbconvert_exporter": "python",
   "pygments_lexer": "ipython3",
   "version": "3.7.6"
  }
 },
 "nbformat": 4,
 "nbformat_minor": 4
}
