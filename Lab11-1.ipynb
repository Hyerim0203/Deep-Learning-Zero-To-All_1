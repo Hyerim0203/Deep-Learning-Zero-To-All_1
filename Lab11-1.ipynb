{
 "cells": [
  {
   "cell_type": "markdown",
   "metadata": {},
   "source": [
    "# CNN - basic"
   ]
  },
  {
   "cell_type": "code",
   "execution_count": 10,
   "metadata": {},
   "outputs": [],
   "source": [
    "import tensorflow as tf\n",
    "import numpy as np\n",
    "import matplotlib.pyplot as plt"
   ]
  },
  {
   "cell_type": "code",
   "execution_count": 14,
   "metadata": {
    "scrolled": true
   },
   "outputs": [
    {
     "name": "stdout",
     "output_type": "stream",
     "text": [
      "(1, 3, 3, 1)\n"
     ]
    },
    {
     "data": {
      "text/plain": [
       "<matplotlib.image.AxesImage at 0x2a55e19b248>"
      ]
     },
     "execution_count": 14,
     "metadata": {},
     "output_type": "execute_result"
    },
    {
     "data": {
      "image/png": "[encoded data removed]",
      "text/plain": [
       "<Figure size 432x288 with 1 Axes>"
      ]
     },
     "metadata": {
      "needs_background": "light"
     },
     "output_type": "display_data"
    }
   ],
   "source": [
    "sess = tf.InteractiveSession() # 그냥 session 과 다르게 default 로 이 세션 선언\n",
    "# eval 값에 (sess=sess) 기입하지 않아도 됨.\n",
    "image = np.arange(1,10, dtype=np.float32).reshape(1,3,3,1)\n",
    "print(image.shape)\n",
    "plt.imshow(image.reshape(3,3), cmap=\"Blues\")\n",
    "# 1이 포함된 형태의 reshape 을 하면 1을 없애줌."
   ]
  },
  {
   "cell_type": "markdown",
   "metadata": {},
   "source": [
    "- image  = (image_num, size, size, color)\n",
    "- filter = (size, size, color, filter_num)\n",
    "- strides = (1, move. move, 1)\n",
    "- padding ->\n",
    "    - \"VALID\" = > 가능한 만큼의 수만 반환\n",
    "    - \"SAME\"  = > 입력한 image size 만큼 반환\n",
    "- convolution_image = (image_num, size, size, filter_num)"
   ]
  },
  {
   "cell_type": "markdown",
   "metadata": {},
   "source": [
    "### 1 filter(2,2,1,1)"
   ]
  },
  {
   "cell_type": "code",
   "execution_count": 85,
   "metadata": {},
   "outputs": [
    {
     "name": "stdout",
     "output_type": "stream",
     "text": [
      "[[[[18.]\n",
      "   [23.]]\n",
      "\n",
      "  [[33.]\n",
      "   [38.]]]] (1, 2, 2, 1)\n",
      "[[[[18.]\n",
      "   [23.]]\n",
      "\n",
      "  [[33.]\n",
      "   [38.]]]]\n"
     ]
    },
    {
     "data": {
      "image/png": "[encoded data removed]",
      "text/plain": [
       "<Figure size 432x288 with 1 Axes>"
      ]
     },
     "metadata": {
      "needs_background": "light"
     },
     "output_type": "display_data"
    }
   ],
   "source": [
    "weight = tf.constant([[[[1.]],[[1.]]],[[[0.]],[[3.]]]])\n",
    "# weight = tf.constant(tf.ones((2,2,1,1)))\n",
    "# weigh의 shape 가 filter의 shape 와 num 을 결정\n",
    "# 안의 내용물이 각각의 weight 이 됨\n",
    "\n",
    "conv2d = tf.nn.conv2d(image , weight, strides = [1,1,1,1], # 각각에 더할 값들\n",
    "                     padding=\"VALID\") # filter 를 통과하여 알아서 계산\n",
    "#padding =\"same \" > 출력값 또한 필터, 스트라이드와 상관없이 \n",
    "# convolutino 의 사이즈가원래 이미지의 크기와 같게 해주겠다.\n",
    "# 가장자리에 0으로 채워진 아이를 씌움\n",
    "\n",
    "conv2d_img = conv2d.eval()\n",
    "print(conv2d_img, conv2d.shape)\n",
    "\n",
    "con2d_img = np.swapaxes(conv2d_img,0,3)\n",
    "print(con2d_img)\n",
    "for i, one_img in enumerate(conv2d_img):\n",
    "    plt.imshow(one_img.reshape(2,2), cmap=\"gray\")"
   ]
  },
  {
   "cell_type": "markdown",
   "metadata": {},
   "source": [
    "### 3 filters(2,2,1,3)"
   ]
  },
  {
   "cell_type": "code",
   "execution_count": 83,
   "metadata": {},
   "outputs": [
    {
     "name": "stdout",
     "output_type": "stream",
     "text": [
      "weight.shape (2, 2, 1, 3)\n",
      "conv2d_img\n",
      " [[[[ 12. 120. -12.]\n",
      "   [ 16. 160. -16.]\n",
      "   [  9.  90.  -9.]]\n",
      "\n",
      "  [[ 24. 240. -24.]\n",
      "   [ 28. 280. -28.]\n",
      "   [ 15. 150. -15.]]\n",
      "\n",
      "  [[ 15. 150. -15.]\n",
      "   [ 17. 170. -17.]\n",
      "   [  9.  90.  -9.]]]] (1, 3, 3, 3)\n"
     ]
    },
    {
     "data": {
      "image/png": "[encoded data removed]",
      "text/plain": [
       "<Figure size 432x288 with 3 Axes>"
      ]
     },
     "metadata": {
      "needs_background": "light"
     },
     "output_type": "display_data"
    }
   ],
   "source": [
    "weight = tf.constant([[[[1.,10.,-1.]],[[1.,10.,-1.]]],\n",
    "                     [[[1.,10.,-1.]],[[1.,10.,-1.]]]])\n",
    "print(\"weight.shape\", weight.shape)\n",
    "\n",
    "conv2d = tf.nn.conv2d(image, weight, strides=[1,1,1,1], padding=\"SAME\")\n",
    "conv2d_img = conv2d.eval()\n",
    "print(\"conv2d_img\\n\", conv2d_img, conv2d_img.shape)\n",
    "conv2d = np.swapaxes(conv2d_img,0,3) # filter 개수에 따라 image 를 출력하기 위해서\n",
    "for i, one_img in enumerate(conv2d): # filter 에 따른 그래프를 출력\n",
    "    plt.subplot(1,3,i+1), plt.imshow(one_img.reshape(3,3), cmap=\"gray\")\n",
    "# 가로로 한줄, 세로로 3줄\n",
    "# 몇번째 칸에 그릴지 결정. 1, 2, 3\n",
    "#                          4, 5, 6\n",
    "\n",
    "# numpy 의 경우 하나의 dtype만 받을 수 있기 때문에\n",
    "# numpy array 끼리 연산할 때 반드시 dtype 이 같아야함!"
   ]
  },
  {
   "cell_type": "markdown",
   "metadata": {},
   "source": [
    "### Max Pooling - overfitting 방지"
   ]
  },
  {
   "cell_type": "code",
   "execution_count": 88,
   "metadata": {},
   "outputs": [
    {
     "name": "stdout",
     "output_type": "stream",
     "text": [
      "(1, 2, 2, 1)\n",
      "(1, 2, 2, 1)\n",
      "[[[[4.]\n",
      "   [3.]]\n",
      "\n",
      "  [[2.]\n",
      "   [1.]]]]\n"
     ]
    }
   ],
   "source": [
    "image = np.array([[[[4.],[3.]],[[2.],[1.]]]], dtype=np.float32)\n",
    "\n",
    "pool = tf.nn.max_pool(image, ksize=[1,2,2,1], strides=[1,1,1,1],\n",
    "                     padding = \"SAME\")\n",
    "print(image.shape)\n",
    "print(pool.shape)\n",
    "print(pool.eval())"
   ]
  },
  {
   "cell_type": "markdown",
   "metadata": {},
   "source": [
    "## CNN for MNIST"
   ]
  },
  {
   "cell_type": "markdown",
   "metadata": {},
   "source": [
    "#### load data & module"
   ]
  },
  {
   "cell_type": "code",
   "execution_count": 89,
   "metadata": {},
   "outputs": [
    {
     "name": "stdout",
     "output_type": "stream",
     "text": [
      "WARNING:tensorflow:From <ipython-input-89-d175f9f252b1>:5: read_data_sets (from tensorflow.contrib.learn.python.learn.datasets.mnist) is deprecated and will be removed in a future version.\n",
      "Instructions for updating:\n",
      "Please use alternatives such as official/mnist/dataset.py from tensorflow/models.\n",
      "WARNING:tensorflow:From C:\\ProgramData\\Anaconda3\\lib\\site-packages\\tensorflow_core\\contrib\\learn\\python\\learn\\datasets\\mnist.py:260: maybe_download (from tensorflow.contrib.learn.python.learn.datasets.base) is deprecated and will be removed in a future version.\n",
      "Instructions for updating:\n",
      "Please write your own downloading logic.\n",
      "WARNING:tensorflow:From C:\\ProgramData\\Anaconda3\\lib\\site-packages\\tensorflow_core\\contrib\\learn\\python\\learn\\datasets\\mnist.py:262: extract_images (from tensorflow.contrib.learn.python.learn.datasets.mnist) is deprecated and will be removed in a future version.\n",
      "Instructions for updating:\n",
      "Please use tf.data to implement this functionality.\n",
      "Extracting MNIST_data/train-images-idx3-ubyte.gz\n",
      "WARNING:tensorflow:From C:\\ProgramData\\Anaconda3\\lib\\site-packages\\tensorflow_core\\contrib\\learn\\python\\learn\\datasets\\mnist.py:267: extract_labels (from tensorflow.contrib.learn.python.learn.datasets.mnist) is deprecated and will be removed in a future version.\n",
      "Instructions for updating:\n",
      "Please use tf.data to implement this functionality.\n",
      "Extracting MNIST_data/train-labels-idx1-ubyte.gz\n",
      "WARNING:tensorflow:From C:\\ProgramData\\Anaconda3\\lib\\site-packages\\tensorflow_core\\contrib\\learn\\python\\learn\\datasets\\mnist.py:110: dense_to_one_hot (from tensorflow.contrib.learn.python.learn.datasets.mnist) is deprecated and will be removed in a future version.\n",
      "Instructions for updating:\n",
      "Please use tf.one_hot on tensors.\n",
      "Extracting MNIST_data/t10k-images-idx3-ubyte.gz\n",
      "Extracting MNIST_data/t10k-labels-idx1-ubyte.gz\n",
      "WARNING:tensorflow:From C:\\ProgramData\\Anaconda3\\lib\\site-packages\\tensorflow_core\\contrib\\learn\\python\\learn\\datasets\\mnist.py:290: DataSet.__init__ (from tensorflow.contrib.learn.python.learn.datasets.mnist) is deprecated and will be removed in a future version.\n",
      "Instructions for updating:\n",
      "Please use alternatives such as official/mnist/dataset.py from tensorflow/models.\n"
     ]
    }
   ],
   "source": [
    "from tensorflow.examples.tutorials.mnist import input_data\n",
    "import tensorflow as tf\n",
    "import matplotlib.pyplot as plt\n",
    "import numpy as np\n",
    "mnist = input_data.read_data_sets(\"MNIST_data/\", one_hot=True)"
   ]
  },
  {
   "cell_type": "code",
   "execution_count": 91,
   "metadata": {},
   "outputs": [
    {
     "data": {
      "text/plain": [
       "<matplotlib.image.AxesImage at 0x2a55feaaac8>"
      ]
     },
     "execution_count": 91,
     "metadata": {},
     "output_type": "execute_result"
    },
    {
     "data": {
      "image/png": "[encoded data removed]",
      "text/plain": [
       "<Figure size 432x288 with 1 Axes>"
      ]
     },
     "metadata": {
      "needs_background": "light"
     },
     "output_type": "display_data"
    }
   ],
   "source": [
    "img = mnist.train.images[0].reshape(28,28)\n",
    "plt.imshow(img, cmap=\"gray\")"
   ]
  },
  {
   "cell_type": "code",
   "execution_count": 98,
   "metadata": {},
   "outputs": [
    {
     "name": "stdout",
     "output_type": "stream",
     "text": [
      "Tensor(\"Conv2D_40:0\", shape=(1, 14, 14, 5), dtype=float32)\n"
     ]
    },
    {
     "data": {
      "image/png": "[encoded data removed]",
      "text/plain": [
       "<Figure size 432x288 with 5 Axes>"
      ]
     },
     "metadata": {
      "needs_background": "light"
     },
     "output_type": "display_data"
    },
    {
     "name": "stdout",
     "output_type": "stream",
     "text": [
      "Tensor(\"MaxPool_7:0\", shape=(1, 7, 7, 5), dtype=float32)\n"
     ]
    },
    {
     "data": {
      "image/png": "[encoded data removed]",
      "text/plain": [
       "<Figure size 432x288 with 5 Axes>"
      ]
     },
     "metadata": {
      "needs_background": "light"
     },
     "output_type": "display_data"
    }
   ],
   "source": [
    "sess = tf.InteractiveSession()\n",
    "\n",
    "img = img.reshape(-1,28,28,1)\n",
    "w1 = tf.Variable(tf.random_normal([3,3,1,5], stddev=0.01 ))\n",
    "# 난수 생성시, 분산을 0.01로 지정 => 너무 초깃값에 영향을 받지 않도록\n",
    "conv2d = tf.nn.conv2d(img,w1, strides=[1,2,2,1], padding = \"SAME\")\n",
    "# SAME 은 strides 가 1일 때 기준으로 input 과 output의 크기를 같게\n",
    "\n",
    "print(conv2d)\n",
    "sess.run(tf.global_variables_initializer()) # 변수 작동 전에 초기화\n",
    "conv2d_img = np.swapaxes(conv2d.eval(),0,3)\n",
    "for idx, one_img in enumerate(conv2d_img):\n",
    "    plt.subplot(1,5,idx+1), plt.imshow(one_img.reshape(14,14), cmap=\"gray\")\n",
    "plt.show()\n",
    "\n",
    "pool= tf.nn.max_pool(conv2d, ksize=[1,2,2,1], strides=[1,2,2,1], padding=\"SAME\")\n",
    "print(pool)\n",
    "sess.run(tf.global_variables_initializer())\n",
    "pool_img = np.swapaxes(pool.eval(), 0, 3)\n",
    "for idx, one_img in enumerate(pool_img):\n",
    "    plt.subplot(1,5,idx+1), plt.imshow(one_img.reshape(7,7), cmap=\"gray\")"
   ]
  },
  {
   "cell_type": "code",
   "execution_count": null,
   "metadata": {},
   "outputs": [],
   "source": []
  }
 ],
 "metadata": {
  "kernelspec": {
   "display_name": "Python 3",
   "language": "python",
   "name": "python3"
  },
  "language_info": {
   "codemirror_mode": {
    "name": "ipython",
    "version": 3
   },
   "file_extension": ".py",
   "mimetype": "text/x-python",
   "name": "python",
   "nbconvert_exporter": "python",
   "pygments_lexer": "ipython3",
   "version": "3.7.6"
  }
 },
 "nbformat": 4,
 "nbformat_minor": 4
}
