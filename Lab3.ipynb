{
 "cells": [
  {
   "cell_type": "code",
   "execution_count": 1,
   "metadata": {},
   "outputs": [],
   "source": [
    "import tensorflow as tf\n",
    "import matplotlib.pyplot as plt"
   ]
  },
  {
   "cell_type": "markdown",
   "metadata": {},
   "source": [
    "### W 를 직접 대입해주는 방법"
   ]
  },
  {
   "cell_type": "code",
   "execution_count": 3,
   "metadata": {},
   "outputs": [
    {
     "data": {
      "image/png": "[encoded data removed]",
      "text/plain": [
       "<Figure size 432x288 with 1 Axes>"
      ]
     },
     "metadata": {},
     "output_type": "display_data"
    }
   ],
   "source": [
    "x=[1,2,3]\n",
    "y=[1,2,3]\n",
    "\n",
    "w=tf.placeholder(tf.float32)\n",
    "# Our hypothesis for linear model x * w\n",
    "hypothesis = w * x\n",
    "\n",
    "#cost/Loss function\n",
    "cost = tf.reduce_mean(tf.square(hypothesis-y))\n",
    "#Launch the graph in a session\n",
    "sess=tf.Session()\n",
    "#Initializes global variables in the graph\n",
    "sess.run(tf.global_variables_initializer())\n",
    "#Variables for plotting cost function\n",
    "w_val=[]\n",
    "cost_val=[]\n",
    "for i in range(-30,50):\n",
    "    feed_w=i*0.1 # w를 -3에서 5까지 0.1 간격으로 움직이겠다.\n",
    "    curr_cost, curr_w = sess.run([cost,w], feed_dict={w:feed_w})\n",
    "    w_val.append(curr_w)\n",
    "    cost_val.append(curr_cost)\n",
    "    \n",
    "# Show the cost function\n",
    "plt.plot(w_val, cost_val) # w가 움직임에 따라 cost 가 어떻게 움직이는지 그래프를 그려보겠다.\n",
    "plt.show() # hypothesis = w*x 의 cost function 의 그래프가 나옴\n",
    "# 이 hypothesis cost function 은 'convex function'\n",
    "    "
   ]
  },
  {
   "cell_type": "markdown",
   "metadata": {},
   "source": [
    "### 미분을 통해 w를 조정하는 방법"
   ]
  },
  {
   "cell_type": "code",
   "execution_count": null,
   "metadata": {},
   "outputs": [],
   "source": [
    "# 각 노드 생성\n",
    "\n",
    "learning_rate=0.1\n",
    "gradient=tf.reduce_mean((w*x-y)*x)\n",
    "descent=w-learning_rate*gradient\n",
    "update=w.assign(descent)   # w 에 descent 값을 할당하는 노드 => update\n",
    "# 따라서 update를 실행하게 되면 꼬리에 꼬리를 물고 다 실행됨\n",
    "\n",
    "#===\n",
    "\n",
    "# Minimize : Gradient Descent Magic\n",
    "optimizer=tf.train.GradientDescentOptimizer(leanring_rate=0.1)\n",
    "train=optimizer.minimize(cost)"
   ]
  },
  {
   "cell_type": "code",
   "execution_count": 11,
   "metadata": {},
   "outputs": [
    {
     "name": "stdout",
     "output_type": "stream",
     "text": [
      "0 1.2618803 [0.4799972]\n",
      "1 0.35893488 [0.7226652]\n",
      "2 0.102096975 [0.8520881]\n",
      "3 0.029040938 [0.9211136]\n",
      "4 0.008260552 [0.9579272]\n",
      "5 0.002349673 [0.9775612]\n",
      "6 0.000668348 [0.98803264]\n",
      "7 0.00019010932 [0.9936174]\n",
      "8 5.407354e-05 [0.996596]\n",
      "9 1.5381267e-05 [0.9981845]\n",
      "10 4.375401e-06 [0.9990317]\n",
      "11 1.2445257e-06 [0.9994836]\n",
      "12 3.5406188e-07 [0.99972457]\n",
      "13 1.0065802e-07 [0.99985313]\n",
      "14 2.8644484e-08 [0.9999217]\n",
      "15 8.152082e-09 [0.9999582]\n",
      "16 2.3137403e-09 [0.9999777]\n",
      "17 6.6317324e-10 [0.9999881]\n",
      "18 1.8905766e-10 [0.9999936]\n",
      "19 5.4272437e-11 [0.9999966]\n",
      "20 1.44998085e-11 [0.9999982]\n"
     ]
    }
   ],
   "source": [
    "x_data=[1,2,3]\n",
    "y_data=[1,2,3]\n",
    "\n",
    "w=tf.Variable(tf.random_normal([1]), name=\"weight\") # 1차원의 원소가 1개 있기 떄문에 이렇게 할당\n",
    "x=tf.placeholder(tf.float32)\n",
    "y=tf.placeholder(tf.float32)\n",
    "\n",
    "# Our hypothesis for Linear model X * W\n",
    "hypothesis = x*w\n",
    "\n",
    "# cost/Loss function\n",
    "cost=tf.reduce_mean(tf.square(hypothesis-y))\n",
    "\n",
    "# MInimize : Gradient Descent using derivative: w-= Learning_rate * derivative\n",
    "learning_rate=0.1\n",
    "gradient=tf.reduce_mean((x*w-y)*x) #어차피 1/2m 이나 1/m 이나 최소를 만드는 w 는 같기 때문에 상관 없음.\n",
    "descent = w-learning_rate*gradient\n",
    "update=w.assign(descent)\n",
    "\n",
    "#Launch the graph in a session \n",
    "sess=tf.Session()\n",
    "sess.run(tf.global_variables_initializer())\n",
    "for step in range(21):\n",
    "    sess.run(update, feed_dict={x:x_data,y:y_data}) # update만 실행시켜도 되는게 어차피\n",
    "#cost function 의 미분 방정식이 gradient 에서 다 선언되어 있기 때문에\n",
    "#update 만 실행해도 cost 를 최소로 하는 w 의 값을 찾을 수 있음\n",
    "    print(step, sess.run(cost,feed_dict={x:x_data,y:y_data}), sess.run(w))\n"
   ]
  },
  {
   "cell_type": "code",
   "execution_count": 8,
   "metadata": {},
   "outputs": [
    {
     "name": "stdout",
     "output_type": "stream",
     "text": [
      "<tf.Variable 'weight_1:0' shape=(1,) dtype=float32_ref>\n"
     ]
    }
   ],
   "source": [
    "# Minimize : Gradient Descent Magic\n",
    "optimizer=tf.grain.GradientDescentOptimizer(leanring_rate=0.1)\n",
    "train=optimizer.minimize(cost)"
   ]
  },
  {
   "cell_type": "markdown",
   "metadata": {},
   "source": [
    "### Output when W=5"
   ]
  },
  {
   "cell_type": "code",
   "execution_count": 11,
   "metadata": {},
   "outputs": [
    {
     "name": "stdout",
     "output_type": "stream",
     "text": [
      "0 [-3.0, 5.0]\n",
      "20 [-0.3048715, 3.9662797]\n",
      "40 [0.19792646, 2.8233018]\n",
      "60 [0.50698435, 2.1207404]\n",
      "80 [0.696955, 1.6888925]\n",
      "100 [0.8137254, 1.4234459]\n"
     ]
    }
   ],
   "source": [
    "import tensorflow as tf\n",
    "x=[1,2,3]\n",
    "y=[2,3,4]\n",
    "\n",
    "w=tf.Variable(-3.0)   # 변수는 tensorflow 가 훈련하면서 계속 바꾸는 값.\n",
    "b=tf.Variable(5.0)   # 숫자만 넣으면 알아서 1차원 어레이로 생성해줌\n",
    "# 5.0 이라는 실수로 선언해주어야 계속 학습하면서 그 값을 바꿀 수 있음\n",
    "# w=tf.Variable(tf.float32)\n",
    "\n",
    "hypothesis = x*w+b\n",
    "\n",
    "cost=tf.reduce_mean(tf.square(hypothesis-y))\n",
    "\n",
    "optimizer=tf.train.GradientDescentOptimizer(learning_rate=0.1)\n",
    "train=optimizer.minimize(cost)\n",
    "\n",
    "sess=tf.Session()\n",
    "sess.run(tf.global_variables_initializer())\n",
    "\n",
    "for step in range(101 ):\n",
    "    if step%20==0: \n",
    "        print(step, sess.run([w,b]))\n",
    "    sess.run(train)\n",
    "\n"
   ]
  },
  {
   "cell_type": "markdown",
   "metadata": {},
   "source": [
    "## Optional : *compute_gradient and apply gradient*"
   ]
  },
  {
   "cell_type": "code",
   "execution_count": 18,
   "metadata": {},
   "outputs": [
    {
     "name": "stdout",
     "output_type": "stream",
     "text": [
      "0 [-41.333332, -3.0, [(-41.333336, -3.0)]]\n",
      "1 [-2.7555523, 1.1333337, [(-2.7555523, 1.1333337)]]\n",
      "2 [-0.18370302, 1.4088889, [(-0.18370306, 1.4088889)]]\n",
      "3 [-0.01224788, 1.4272592, [(-0.01224792, 1.4272592)]]\n",
      "4 [-0.0008163452, 1.428484, [(-0.0008163452, 1.428484)]]\n",
      "5 [-5.396207e-05, 1.4285656, [(-5.4001808e-05, 1.4285656)]]\n",
      "6 [-3.6557515e-06, 1.428571, [(-3.695488e-06, 1.428571)]]\n",
      "7 [-5.5631e-07, 1.4285713, [(-5.9604645e-07, 1.4285713)]]\n",
      "8 [-1.5894572e-07, 1.4285715, [(-1.7881393e-07, 1.4285715)]]\n",
      "9 [-1.5894572e-07, 1.4285715, [(-1.7881393e-07, 1.4285715)]]\n",
      "10 [-1.5894572e-07, 1.4285715, [(-1.7881393e-07, 1.4285715)]]\n",
      "11 [-1.5894572e-07, 1.4285715, [(-1.7881393e-07, 1.4285715)]]\n",
      "12 [-1.5894572e-07, 1.4285715, [(-1.7881393e-07, 1.4285715)]]\n",
      "13 [-1.5894572e-07, 1.4285715, [(-1.7881393e-07, 1.4285715)]]\n",
      "14 [-1.5894572e-07, 1.4285715, [(-1.7881393e-07, 1.4285715)]]\n",
      "15 [-1.5894572e-07, 1.4285715, [(-1.7881393e-07, 1.4285715)]]\n",
      "16 [-1.5894572e-07, 1.4285715, [(-1.7881393e-07, 1.4285715)]]\n",
      "17 [-1.5894572e-07, 1.4285715, [(-1.7881393e-07, 1.4285715)]]\n",
      "18 [-1.5894572e-07, 1.4285715, [(-1.7881393e-07, 1.4285715)]]\n",
      "19 [-1.5894572e-07, 1.4285715, [(-1.7881393e-07, 1.4285715)]]\n",
      "20 [-1.5894572e-07, 1.4285715, [(-1.7881393e-07, 1.4285715)]]\n",
      "21 [-1.5894572e-07, 1.4285715, [(-1.7881393e-07, 1.4285715)]]\n",
      "22 [-1.5894572e-07, 1.4285715, [(-1.7881393e-07, 1.4285715)]]\n",
      "23 [-1.5894572e-07, 1.4285715, [(-1.7881393e-07, 1.4285715)]]\n",
      "24 [-1.5894572e-07, 1.4285715, [(-1.7881393e-07, 1.4285715)]]\n",
      "25 [-1.5894572e-07, 1.4285715, [(-1.7881393e-07, 1.4285715)]]\n",
      "26 [-1.5894572e-07, 1.4285715, [(-1.7881393e-07, 1.4285715)]]\n",
      "27 [-1.5894572e-07, 1.4285715, [(-1.7881393e-07, 1.4285715)]]\n",
      "28 [-1.5894572e-07, 1.4285715, [(-1.7881393e-07, 1.4285715)]]\n",
      "29 [-1.5894572e-07, 1.4285715, [(-1.7881393e-07, 1.4285715)]]\n",
      "30 [-1.5894572e-07, 1.4285715, [(-1.7881393e-07, 1.4285715)]]\n",
      "31 [-1.5894572e-07, 1.4285715, [(-1.7881393e-07, 1.4285715)]]\n",
      "32 [-1.5894572e-07, 1.4285715, [(-1.7881393e-07, 1.4285715)]]\n",
      "33 [-1.5894572e-07, 1.4285715, [(-1.7881393e-07, 1.4285715)]]\n",
      "34 [-1.5894572e-07, 1.4285715, [(-1.7881393e-07, 1.4285715)]]\n",
      "35 [-1.5894572e-07, 1.4285715, [(-1.7881393e-07, 1.4285715)]]\n",
      "36 [-1.5894572e-07, 1.4285715, [(-1.7881393e-07, 1.4285715)]]\n",
      "37 [-1.5894572e-07, 1.4285715, [(-1.7881393e-07, 1.4285715)]]\n",
      "38 [-1.5894572e-07, 1.4285715, [(-1.7881393e-07, 1.4285715)]]\n",
      "39 [-1.5894572e-07, 1.4285715, [(-1.7881393e-07, 1.4285715)]]\n",
      "40 [-1.5894572e-07, 1.4285715, [(-1.7881393e-07, 1.4285715)]]\n",
      "41 [-1.5894572e-07, 1.4285715, [(-1.7881393e-07, 1.4285715)]]\n",
      "42 [-1.5894572e-07, 1.4285715, [(-1.7881393e-07, 1.4285715)]]\n",
      "43 [-1.5894572e-07, 1.4285715, [(-1.7881393e-07, 1.4285715)]]\n",
      "44 [-1.5894572e-07, 1.4285715, [(-1.7881393e-07, 1.4285715)]]\n",
      "45 [-1.5894572e-07, 1.4285715, [(-1.7881393e-07, 1.4285715)]]\n",
      "46 [-1.5894572e-07, 1.4285715, [(-1.7881393e-07, 1.4285715)]]\n",
      "47 [-1.5894572e-07, 1.4285715, [(-1.7881393e-07, 1.4285715)]]\n",
      "48 [-1.5894572e-07, 1.4285715, [(-1.7881393e-07, 1.4285715)]]\n",
      "49 [-1.5894572e-07, 1.4285715, [(-1.7881393e-07, 1.4285715)]]\n",
      "50 [-1.5894572e-07, 1.4285715, [(-1.7881393e-07, 1.4285715)]]\n",
      "51 [-1.5894572e-07, 1.4285715, [(-1.7881393e-07, 1.4285715)]]\n",
      "52 [-1.5894572e-07, 1.4285715, [(-1.7881393e-07, 1.4285715)]]\n",
      "53 [-1.5894572e-07, 1.4285715, [(-1.7881393e-07, 1.4285715)]]\n",
      "54 [-1.5894572e-07, 1.4285715, [(-1.7881393e-07, 1.4285715)]]\n",
      "55 [-1.5894572e-07, 1.4285715, [(-1.7881393e-07, 1.4285715)]]\n",
      "56 [-1.5894572e-07, 1.4285715, [(-1.7881393e-07, 1.4285715)]]\n",
      "57 [-1.5894572e-07, 1.4285715, [(-1.7881393e-07, 1.4285715)]]\n",
      "58 [-1.5894572e-07, 1.4285715, [(-1.7881393e-07, 1.4285715)]]\n",
      "59 [-1.5894572e-07, 1.4285715, [(-1.7881393e-07, 1.4285715)]]\n",
      "60 [-1.5894572e-07, 1.4285715, [(-1.7881393e-07, 1.4285715)]]\n",
      "61 [-1.5894572e-07, 1.4285715, [(-1.7881393e-07, 1.4285715)]]\n",
      "62 [-1.5894572e-07, 1.4285715, [(-1.7881393e-07, 1.4285715)]]\n",
      "63 [-1.5894572e-07, 1.4285715, [(-1.7881393e-07, 1.4285715)]]\n",
      "64 [-1.5894572e-07, 1.4285715, [(-1.7881393e-07, 1.4285715)]]\n",
      "65 [-1.5894572e-07, 1.4285715, [(-1.7881393e-07, 1.4285715)]]\n",
      "66 [-1.5894572e-07, 1.4285715, [(-1.7881393e-07, 1.4285715)]]\n",
      "67 [-1.5894572e-07, 1.4285715, [(-1.7881393e-07, 1.4285715)]]\n",
      "68 [-1.5894572e-07, 1.4285715, [(-1.7881393e-07, 1.4285715)]]\n",
      "69 [-1.5894572e-07, 1.4285715, [(-1.7881393e-07, 1.4285715)]]\n",
      "70 [-1.5894572e-07, 1.4285715, [(-1.7881393e-07, 1.4285715)]]\n",
      "71 [-1.5894572e-07, 1.4285715, [(-1.7881393e-07, 1.4285715)]]\n",
      "72 [-1.5894572e-07, 1.4285715, [(-1.7881393e-07, 1.4285715)]]\n",
      "73 [-1.5894572e-07, 1.4285715, [(-1.7881393e-07, 1.4285715)]]\n",
      "74 [-1.5894572e-07, 1.4285715, [(-1.7881393e-07, 1.4285715)]]\n",
      "75 [-1.5894572e-07, 1.4285715, [(-1.7881393e-07, 1.4285715)]]\n",
      "76 [-1.5894572e-07, 1.4285715, [(-1.7881393e-07, 1.4285715)]]\n",
      "77 [-1.5894572e-07, 1.4285715, [(-1.7881393e-07, 1.4285715)]]\n",
      "78 [-1.5894572e-07, 1.4285715, [(-1.7881393e-07, 1.4285715)]]\n",
      "79 [-1.5894572e-07, 1.4285715, [(-1.7881393e-07, 1.4285715)]]\n",
      "80 [-1.5894572e-07, 1.4285715, [(-1.7881393e-07, 1.4285715)]]\n",
      "81 [-1.5894572e-07, 1.4285715, [(-1.7881393e-07, 1.4285715)]]\n",
      "82 [-1.5894572e-07, 1.4285715, [(-1.7881393e-07, 1.4285715)]]\n",
      "83 [-1.5894572e-07, 1.4285715, [(-1.7881393e-07, 1.4285715)]]\n",
      "84 [-1.5894572e-07, 1.4285715, [(-1.7881393e-07, 1.4285715)]]\n",
      "85 [-1.5894572e-07, 1.4285715, [(-1.7881393e-07, 1.4285715)]]\n",
      "86 [-1.5894572e-07, 1.4285715, [(-1.7881393e-07, 1.4285715)]]\n",
      "87 [-1.5894572e-07, 1.4285715, [(-1.7881393e-07, 1.4285715)]]\n",
      "88 [-1.5894572e-07, 1.4285715, [(-1.7881393e-07, 1.4285715)]]\n",
      "89 [-1.5894572e-07, 1.4285715, [(-1.7881393e-07, 1.4285715)]]\n",
      "90 [-1.5894572e-07, 1.4285715, [(-1.7881393e-07, 1.4285715)]]\n",
      "91 [-1.5894572e-07, 1.4285715, [(-1.7881393e-07, 1.4285715)]]\n",
      "92 [-1.5894572e-07, 1.4285715, [(-1.7881393e-07, 1.4285715)]]\n",
      "93 [-1.5894572e-07, 1.4285715, [(-1.7881393e-07, 1.4285715)]]\n",
      "94 [-1.5894572e-07, 1.4285715, [(-1.7881393e-07, 1.4285715)]]\n",
      "95 [-1.5894572e-07, 1.4285715, [(-1.7881393e-07, 1.4285715)]]\n",
      "96 [-1.5894572e-07, 1.4285715, [(-1.7881393e-07, 1.4285715)]]\n",
      "97 [-1.5894572e-07, 1.4285715, [(-1.7881393e-07, 1.4285715)]]\n",
      "98 [-1.5894572e-07, 1.4285715, [(-1.7881393e-07, 1.4285715)]]\n",
      "99 [-1.5894572e-07, 1.4285715, [(-1.7881393e-07, 1.4285715)]]\n",
      "100 [-1.5894572e-07, 1.4285715, [(-1.7881393e-07, 1.4285715)]]\n"
     ]
    }
   ],
   "source": [
    "import tensorflow as tf\n",
    "x=[1,2,3]\n",
    "y=[2,3,4]\n",
    "\n",
    "w=tf.Variable(-3.0)   # 변수는 tensorflow 가 훈련하면서 계속 바꾸는 값.\n",
    "\n",
    "\n",
    "hypothesis = x*w\n",
    "\n",
    "cost=tf.reduce_mean(tf.square(hypothesis-y))\n",
    "\n",
    "optimizer=tf.train.GradientDescentOptimizer(learning_rate=0.1)\n",
    "\n",
    "#수식적 gradient\n",
    "gradient=tf.reduce_mean((w*x-y)*x)*2\n",
    "\n",
    "#미리 만들어진 함수를 통해 얻어지는 graident\n",
    "gvs = optimizer.compute_gradients(cost,[w]) #cost 함수에서의 그 때의 w에서의 gradients\n",
    "#Apply gradients\n",
    "apply_gradients=optimizer.apply_gradients(gvs) #모델을 통해서 계산된 gradients 를 다시 gradients에 적용\n",
    "#cost 를 최소로 갖게하는 쪽으로 움직이는게 아닌 그냥 거기에서의 gradient 계산 후 다시 적용\n",
    "\n",
    "sess=tf.Session()\n",
    "sess.run(tf.global_variables_initializer())\n",
    "\n",
    "for step in range(101 ):\n",
    "\n",
    "    print(step, sess.run([gradient,w,gvs]))\n",
    "    sess.run(apply_gradients)\n",
    "\n",
    "#수식적 gradient 와 텐서플로우의 gradient 가 같음"
   ]
  },
  {
   "cell_type": "code",
   "execution_count": null,
   "metadata": {},
   "outputs": [],
   "source": []
  }
 ],
 "metadata": {
  "kernelspec": {
   "display_name": "Python 3",
   "language": "python",
   "name": "python3"
  },
  "language_info": {
   "codemirror_mode": {
    "name": "ipython",
    "version": 3
   },
   "file_extension": ".py",
   "mimetype": "text/x-python",
   "name": "python",
   "nbconvert_exporter": "python",
   "pygments_lexer": "ipython3",
   "version": "3.6.5"
  }
 },
 "nbformat": 4,
 "nbformat_minor": 2
}
